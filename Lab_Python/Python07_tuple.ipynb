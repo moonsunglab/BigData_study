{
  "nbformat": 4,
  "nbformat_minor": 0,
  "metadata": {
    "colab": {
      "provenance": [],
      "authorship_tag": "ABX9TyM8IjUut0oufDYaCujUsvKt",
      "include_colab_link": true
    },
    "kernelspec": {
      "name": "python3",
      "display_name": "Python 3"
    },
    "language_info": {
      "name": "python"
    }
  },
  "cells": [
    {
      "cell_type": "markdown",
      "metadata": {
        "id": "view-in-github",
        "colab_type": "text"
      },
      "source": [
        "<a href=\"https://colab.research.google.com/github/moonsunglab/BigData_study/blob/main/Lab_Python/Python07_tuple.ipynb\" target=\"_parent\"><img src=\"https://colab.research.google.com/assets/colab-badge.svg\" alt=\"Open In Colab\"/></a>"
      ]
    },
    {
      "cell_type": "markdown",
      "source": [
        "# 튜플(tuple)\n",
        "\n",
        "*   `tuple`: 저장된 아이템들을 변경할 수 없는 리스트.\n",
        "*   인덱스 기반의 데이터 타입.\n",
        "    *   indexing: 특정 인덱스 위치의 아이템을 읽어옴.\n",
        "    *   slicing: 특정 인덱스 범위의 아이템들로 이루어진 **새로운 튜플**을 만듦.\n",
        "*   append, extend, insert, pop, remove, clear,.... 와 같은 함수들은 제공되지 않음."
      ],
      "metadata": {
        "id": "WisBlL-N5Ynk"
      }
    },
    {
      "cell_type": "code",
      "execution_count": null,
      "metadata": {
        "colab": {
          "base_uri": "https://localhost:8080/"
        },
        "id": "n4LltOXD5Qh8",
        "outputId": "e2b7d503-defa-4ccc-e0b4-e0329d7b1bb4"
      },
      "outputs": [
        {
          "output_type": "stream",
          "name": "stdout",
          "text": [
            "<class 'tuple'>\n"
          ]
        },
        {
          "output_type": "execute_result",
          "data": {
            "text/plain": [
              "(1, 2, 3, 1, 1, 2)"
            ]
          },
          "metadata": {},
          "execution_count": 4
        }
      ],
      "source": [
        "numbers = (1, 2, 3, 1, 1, 2)\n",
        "print(type(numbers))\n",
        "numbers"
      ]
    },
    {
      "cell_type": "code",
      "source": [
        "len(numbers)    # 튜플의 아이템의 개수"
      ],
      "metadata": {
        "colab": {
          "base_uri": "https://localhost:8080/"
        },
        "id": "vGZmhq6G6zkF",
        "outputId": "09c40f96-6b7f-4ea7-bc7b-264c29da78d9"
      },
      "execution_count": null,
      "outputs": [
        {
          "output_type": "execute_result",
          "data": {
            "text/plain": [
              "6"
            ]
          },
          "metadata": {},
          "execution_count": 3
        }
      ]
    },
    {
      "cell_type": "code",
      "source": [
        "numbers.count(1)        # list or tuple.count(value): 리스트 또는 튜플에서 value가 나오는 횟수를 리턴."
      ],
      "metadata": {
        "colab": {
          "base_uri": "https://localhost:8080/"
        },
        "id": "z4sRE5MZ7jdV",
        "outputId": "57e0b9fd-fe18-4049-fe33-ce1445eb2b6a"
      },
      "execution_count": null,
      "outputs": [
        {
          "output_type": "execute_result",
          "data": {
            "text/plain": [
              "3"
            ]
          },
          "metadata": {},
          "execution_count": 5
        }
      ]
    },
    {
      "cell_type": "code",
      "source": [
        "numbers.index(2)        # list or tuple.index(value): 리스트 또는 튜플에서 value가 처음나오는 인덱스를 리턴"
      ],
      "metadata": {
        "colab": {
          "base_uri": "https://localhost:8080/"
        },
        "id": "I7IOe6Pb8FsE",
        "outputId": "c055b3cc-76a1-477e-e6fe-a9c2a098c92d"
      },
      "execution_count": null,
      "outputs": [
        {
          "output_type": "execute_result",
          "data": {
            "text/plain": [
              "1"
            ]
          },
          "metadata": {},
          "execution_count": 6
        }
      ]
    },
    {
      "cell_type": "markdown",
      "source": [
        "# Indexing"
      ],
      "metadata": {
        "id": "xNI5w35g9NyL"
      }
    },
    {
      "cell_type": "code",
      "source": [
        "numbers"
      ],
      "metadata": {
        "colab": {
          "base_uri": "https://localhost:8080/"
        },
        "id": "l0amufJY8zFu",
        "outputId": "01753c3f-b974-4a15-a968-68ec3d23f497"
      },
      "execution_count": null,
      "outputs": [
        {
          "output_type": "execute_result",
          "data": {
            "text/plain": [
              "(1, 2, 3, 1, 1, 2)"
            ]
          },
          "metadata": {},
          "execution_count": 7
        }
      ]
    },
    {
      "cell_type": "code",
      "source": [
        "numbers[0]   # 튜플 numbers의 첫번째 원소"
      ],
      "metadata": {
        "colab": {
          "base_uri": "https://localhost:8080/"
        },
        "id": "TqJ4cujj9TLN",
        "outputId": "471fcf42-bf55-4295-c2ca-0fcce91d7779"
      },
      "execution_count": null,
      "outputs": [
        {
          "output_type": "execute_result",
          "data": {
            "text/plain": [
              "1"
            ]
          },
          "metadata": {},
          "execution_count": 8
        }
      ]
    },
    {
      "cell_type": "code",
      "source": [
        "numbers[-1]   # 튜플 numbers의 마지막 원소"
      ],
      "metadata": {
        "colab": {
          "base_uri": "https://localhost:8080/"
        },
        "id": "N4oX-2m69Ylu",
        "outputId": "cd5be87d-e8d6-467a-987c-e454032890d9"
      },
      "execution_count": null,
      "outputs": [
        {
          "output_type": "execute_result",
          "data": {
            "text/plain": [
              "2"
            ]
          },
          "metadata": {},
          "execution_count": 9
        }
      ]
    },
    {
      "cell_type": "markdown",
      "source": [
        "#slicing"
      ],
      "metadata": {
        "id": "TFXaIxfH9iPL"
      }
    },
    {
      "cell_type": "code",
      "source": [
        "numbers[:3]"
      ],
      "metadata": {
        "colab": {
          "base_uri": "https://localhost:8080/"
        },
        "id": "FfCzG3WN9f13",
        "outputId": "5f4a1481-7d19-40eb-d716-71d7bc6cec30"
      },
      "execution_count": null,
      "outputs": [
        {
          "output_type": "execute_result",
          "data": {
            "text/plain": [
              "(1, 2, 3)"
            ]
          },
          "metadata": {},
          "execution_count": 10
        }
      ]
    },
    {
      "cell_type": "code",
      "source": [
        "numbers[-3:]"
      ],
      "metadata": {
        "colab": {
          "base_uri": "https://localhost:8080/"
        },
        "id": "fMLQkLb29m3d",
        "outputId": "cd988529-0f96-4761-c29c-d7d7732f2c3a"
      },
      "execution_count": null,
      "outputs": [
        {
          "output_type": "execute_result",
          "data": {
            "text/plain": [
              "(1, 1, 2)"
            ]
          },
          "metadata": {},
          "execution_count": 12
        }
      ]
    },
    {
      "cell_type": "markdown",
      "source": [
        "# tuple과 for 반복문"
      ],
      "metadata": {
        "id": "83kk26-sBoGc"
      }
    },
    {
      "cell_type": "code",
      "source": [
        "for x in (1, 10, -2, -20, 30):\n",
        "    print(x)"
      ],
      "metadata": {
        "colab": {
          "base_uri": "https://localhost:8080/"
        },
        "id": "e4qy7V8u9rUM",
        "outputId": "86566488-770a-4b9d-8988-0a9ffd357831"
      },
      "execution_count": null,
      "outputs": [
        {
          "output_type": "stream",
          "name": "stdout",
          "text": [
            "1\n",
            "10\n",
            "-2\n",
            "-20\n",
            "30\n"
          ]
        }
      ]
    },
    {
      "cell_type": "code",
      "source": [
        "matrix = (\n",
        "    (1,2,3),\n",
        "    (4,5,6),\n",
        "    (7,8,9)\n",
        ")"
      ],
      "metadata": {
        "id": "CVRmkGkEB3I0"
      },
      "execution_count": null,
      "outputs": []
    },
    {
      "cell_type": "code",
      "source": [
        "for x in matrix:\n",
        "    for y in x:\n",
        "        print(y, end = '\\t')\n",
        "    print()"
      ],
      "metadata": {
        "colab": {
          "base_uri": "https://localhost:8080/"
        },
        "id": "cRy-HTcDCRCL",
        "outputId": "2f3dd83c-b8f9-4706-c627-d9092d605ba6"
      },
      "execution_count": null,
      "outputs": [
        {
          "output_type": "stream",
          "name": "stdout",
          "text": [
            "1\t2\t3\t\n",
            "4\t5\t6\t\n",
            "7\t8\t9\t\n"
          ]
        }
      ]
    },
    {
      "cell_type": "markdown",
      "source": [
        "# list | Tuple decomposition(분해)"
      ],
      "metadata": {
        "id": "75WiPVbGDiWj"
      }
    },
    {
      "cell_type": "code",
      "source": [
        "integers = (1,2,3)\n",
        "# x = integers[0]\n",
        "# y = integers[1]\n",
        "# z = integers[2]\n",
        "\n",
        "# x , y , z = integers[0], integers[1], integers[2]\n",
        "\n",
        "x, y, z = integers      # integers의 아이템이 3개니까 가능.\n",
        "print(x,y,z)"
      ],
      "metadata": {
        "colab": {
          "base_uri": "https://localhost:8080/"
        },
        "id": "p9nlHuulDe_7",
        "outputId": "f491a2b5-e134-403f-fe9b-4ba3c8bb2b10"
      },
      "execution_count": null,
      "outputs": [
        {
          "output_type": "stream",
          "name": "stdout",
          "text": [
            "1 2 3\n"
          ]
        }
      ]
    },
    {
      "cell_type": "code",
      "source": [
        "names = ['홍길동', '오쌤', ]\n",
        "person1, person2 = names\n",
        "print(person1, person2)"
      ],
      "metadata": {
        "colab": {
          "base_uri": "https://localhost:8080/"
        },
        "id": "icuSreGqE8iL",
        "outputId": "12a4b41c-6c37-4a5f-9e9f-c0dc8ccc6ad8"
      },
      "execution_count": null,
      "outputs": [
        {
          "output_type": "stream",
          "name": "stdout",
          "text": [
            "홍길동 오쌤\n"
          ]
        }
      ]
    },
    {
      "cell_type": "code",
      "source": [],
      "metadata": {
        "id": "axXVP82fFWAs"
      },
      "execution_count": null,
      "outputs": []
    }
  ]
}