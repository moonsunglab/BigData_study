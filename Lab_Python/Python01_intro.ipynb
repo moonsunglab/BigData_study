{
  "nbformat": 4,
  "nbformat_minor": 0,
  "metadata": {
    "colab": {
      "provenance": [],
      "toc_visible": true,
      "authorship_tag": "ABX9TyPnSUDsUceJ8+Km46gZeakv",
      "include_colab_link": true
    },
    "kernelspec": {
      "name": "python3",
      "display_name": "Python 3"
    },
    "language_info": {
      "name": "python"
    }
  },
  "cells": [
    {
      "cell_type": "markdown",
      "metadata": {
        "id": "view-in-github",
        "colab_type": "text"
      },
      "source": [
        "<a href=\"https://colab.research.google.com/github/moonsunglab/BigData_study/blob/main/Lab_Python/Python01_intro.ipynb\" target=\"_parent\"><img src=\"https://colab.research.google.com/assets/colab-badge.svg\" alt=\"Open In Colab\"/></a>"
      ]
    },
    {
      "cell_type": "markdown",
      "source": [
        "# Colab 소개"
      ],
      "metadata": {
        "id": "2912PXhjNffL"
      }
    },
    {
      "cell_type": "code",
      "execution_count": null,
      "metadata": {
        "colab": {
          "base_uri": "https://localhost:8080/"
        },
        "id": "fxceyRzUK4lK",
        "outputId": "26484a1b-f0ff-4d02-8d2b-d8f53b70d4d4"
      },
      "outputs": [
        {
          "output_type": "stream",
          "name": "stdout",
          "text": [
            "hello world\n"
          ]
        }
      ],
      "source": [
        "print('hello world')"
      ]
    },
    {
      "cell_type": "markdown",
      "source": [
        "##colab 코드 셀 실행 방법\n",
        "\n",
        "*   실행 버튼 클릭\n",
        "*   런타임 메뉴의 항목을 선택\n",
        "*   단축키\n",
        "    *   ctrl + enter: 현재 포커스가 있는 셀을 실행.\n",
        "    *   shift + enter: 현재 포커스 실행하고 그다음 셀로 포커스를 이동. 다음 셀이  없으면 새로운 셀을 자동으로 만들어줌.\n"
      ],
      "metadata": {
        "id": "kTjGCJpiTFHL"
      }
    },
    {
      "cell_type": "markdown",
      "source": [
        "# Pyhon 버전 확인"
      ],
      "metadata": {
        "id": "CY5Hh-e6ObYc"
      }
    },
    {
      "cell_type": "code",
      "source": [
        "import sys # sys 모듈 사용\n",
        "\n",
        "print(sys.version)"
      ],
      "metadata": {
        "colab": {
          "base_uri": "https://localhost:8080/"
        },
        "id": "gasYol1yMNMU",
        "outputId": "81248c73-052e-4723-ee67-53485ab7daac"
      },
      "execution_count": null,
      "outputs": [
        {
          "output_type": "stream",
          "name": "stdout",
          "text": [
            "3.11.12 (main, Apr  9 2025, 08:55:54) [GCC 11.4.0]\n"
          ]
        }
      ]
    },
    {
      "cell_type": "markdown",
      "source": [
        "# 여러가지 print 방법"
      ],
      "metadata": {
        "id": "oySBXvi_Vf0r"
      }
    },
    {
      "cell_type": "code",
      "source": [
        "# 주석(inline comment)\n",
        "print('Hello, Python!')\n",
        "# 파이썬이서 문자열string은 작은 따옴표 또는 큰따옴표 모두 사용 가능."
      ],
      "metadata": {
        "colab": {
          "base_uri": "https://localhost:8080/"
        },
        "id": "ISqd_EWEU7d0",
        "outputId": "7911bdd7-36e2-4923-e441-01678c87c048"
      },
      "execution_count": null,
      "outputs": [
        {
          "output_type": "stream",
          "name": "stdout",
          "text": [
            "Hello, Python!\n"
          ]
        }
      ]
    },
    {
      "cell_type": "code",
      "source": [
        "# 다른 작은 따옴표가 있기 때문에 큰 따옴표로 문자열을 써주는게 좋다.\n",
        "print(\"I'm a boy\")\n",
        "# 백슬래쉬를 쓰면 문자열로 가능\n",
        "print('I\\'m a boy')\n"
      ],
      "metadata": {
        "colab": {
          "base_uri": "https://localhost:8080/"
        },
        "id": "7Gy5VrOfWL1H",
        "outputId": "df7e7177-8dbf-4bdb-8f62-6bc80b7d8e63"
      },
      "execution_count": null,
      "outputs": [
        {
          "output_type": "stream",
          "name": "stdout",
          "text": [
            "I'm a boy\n",
            "I'm a boy\n"
          ]
        }
      ]
    },
    {
      "cell_type": "code",
      "source": [
        "print('hello' , '안녕' , 'Bon jour')\n",
        "# print() 함수에 아규먼트(argument)를 여러 개 전달하면, 각각의 아규먼트들을 공백으로 연결해서 한 줄에 출력\n"
      ],
      "metadata": {
        "colab": {
          "base_uri": "https://localhost:8080/"
        },
        "id": "qBQV21s4XB8O",
        "outputId": "b0b008c5-b3d5-4f85-826f-4c90c9cf83e2"
      },
      "execution_count": null,
      "outputs": [
        {
          "output_type": "stream",
          "name": "stdout",
          "text": [
            "hello 안녕 Bon jour\n"
          ]
        }
      ]
    },
    {
      "cell_type": "code",
      "source": [
        "print(1, '+' , 2 , '=' , 1+2)"
      ],
      "metadata": {
        "colab": {
          "base_uri": "https://localhost:8080/"
        },
        "id": "UdcgeKKuXknl",
        "outputId": "8fd95445-3177-4bad-f98a-a6271f9a159c"
      },
      "execution_count": null,
      "outputs": [
        {
          "output_type": "stream",
          "name": "stdout",
          "text": [
            "1 + 2 = 3\n"
          ]
        }
      ]
    },
    {
      "cell_type": "code",
      "source": [
        "x = 100 # 변수_이름 = 값\n",
        "y = 20\n",
        "\n",
        "print(x , '+' , y , '=' , (x+y) )\n",
        "print('{} + {} = {}'.format(x, y, x+y))\n",
        "print('{a} + {b} = {c}'.format(a=x, c=x+y, b=y))\n",
        "print(f'{x} + {y} = {x+y}') # f-string(formatted string): 파이썬 3.6 version 이상에서 사용 가능."
      ],
      "metadata": {
        "colab": {
          "base_uri": "https://localhost:8080/"
        },
        "id": "_gxi8GreYX38",
        "outputId": "023c41f7-9562-4db4-eda7-40ee5c3c166c"
      },
      "execution_count": null,
      "outputs": [
        {
          "output_type": "stream",
          "name": "stdout",
          "text": [
            "100 + 20 = 120\n",
            "100 + 20 = 120\n",
            "100 + 20 = 120\n",
            "100 + 20 = 120\n"
          ]
        }
      ]
    },
    {
      "cell_type": "code",
      "source": [
        "# 변수 x, y의 사칙연산(+, -, *. /) 한줄씩 출력\n",
        "print(f'{x} + {y} = {x+y}')\n",
        "print(f'{x} - {y} = {x-y}')\n",
        "print(f'{x} * {y} = {x*y}')\n",
        "print(f'{x} / {y} = {x/y}')"
      ],
      "metadata": {
        "colab": {
          "base_uri": "https://localhost:8080/"
        },
        "id": "W6GFVr3AZrFd",
        "outputId": "7ad4fddf-dd7b-4c61-972b-76ba054c9f7f"
      },
      "execution_count": null,
      "outputs": [
        {
          "output_type": "stream",
          "name": "stdout",
          "text": [
            "100 + 20 = 120\n",
            "100 - 20 = 80\n",
            "100 * 20 = 2000\n",
            "100 / 20 = 5.0\n"
          ]
        }
      ]
    },
    {
      "cell_type": "markdown",
      "source": [
        "사용자(키보드) 입력값을 출력"
      ],
      "metadata": {
        "id": "QQPdgu7tgnLK"
      }
    },
    {
      "cell_type": "code",
      "source": [
        "name = input('이름을 입력하세요.')\n",
        "print(f'안녕하세요, {name}님!')"
      ],
      "metadata": {
        "id": "t5gojr7XcHTV",
        "colab": {
          "base_uri": "https://localhost:8080/"
        },
        "outputId": "88b7fba5-e66e-4f08-c663-cd6367286d62"
      },
      "execution_count": null,
      "outputs": [
        {
          "output_type": "stream",
          "name": "stdout",
          "text": [
            "이름을 입력하세요.전문성\n",
            "안녕하세요, 전문성님!\n"
          ]
        }
      ]
    }
  ]
}