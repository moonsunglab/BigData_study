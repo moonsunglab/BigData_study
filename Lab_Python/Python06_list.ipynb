{
  "nbformat": 4,
  "nbformat_minor": 0,
  "metadata": {
    "colab": {
      "provenance": [],
      "authorship_tag": "ABX9TyNkkeVUWk5vEu0Gnru1jh4T",
      "include_colab_link": true
    },
    "kernelspec": {
      "name": "python3",
      "display_name": "Python 3"
    },
    "language_info": {
      "name": "python"
    }
  },
  "cells": [
    {
      "cell_type": "markdown",
      "metadata": {
        "id": "view-in-github",
        "colab_type": "text"
      },
      "source": [
        "<a href=\"https://colab.research.google.com/github/moonsunglab/BigData_study/blob/main/Lab_Python/Python06_list.ipynb\" target=\"_parent\"><img src=\"https://colab.research.google.com/assets/colab-badge.svg\" alt=\"Open In Colab\"/></a>"
      ]
    },
    {
      "cell_type": "markdown",
      "source": [
        "# 리스트(list)\n",
        "\n",
        "*   `list`: 여러 개의 값들을 하나의 변수에 저장하기 위한 데이터 타입.\n",
        "*   원소(element), 아이템(item): 리스트에 저장된 각각의 값.\n",
        "*   인덱스(index): 리스트에 원소들이 저장된 위치를 표시하는 정수.\n",
        "    *   리스트의 인덱스는 **0**부터 시작\n",
        "    *   리스트에서 마지막 원소의 인덱스는 (원소 개수 - 1).\n",
        "*   리스트는 원소들을 추가, 변경, 삭제할 수 있음.\n",
        "    *   `tuple`과 다른점."
      ],
      "metadata": {
        "id": "Gx9QsAdo8zdo"
      }
    },
    {
      "cell_type": "code",
      "execution_count": null,
      "metadata": {
        "colab": {
          "base_uri": "https://localhost:8080/",
          "height": 35
        },
        "id": "qL06g2LF8uzS",
        "outputId": "246868e0-662d-4e79-ebab-c150b473835c"
      },
      "outputs": [
        {
          "output_type": "execute_result",
          "data": {
            "text/plain": [
              "\"<class 'list'> / [1, 2, 10, 20, -1, -2]\""
            ],
            "application/vnd.google.colaboratory.intrinsic+json": {
              "type": "string"
            }
          },
          "metadata": {},
          "execution_count": 6
        }
      ],
      "source": [
        "# 숫자들을 저장하는 list\n",
        "numbers = [1, 2, 10, 20, -1, -2]\n",
        "f'{type(numbers)} / {numbers}'"
      ]
    },
    {
      "cell_type": "code",
      "source": [
        "# 파이썬의 리스트는 여러 타입의 값들을 하나의 변수에 저장할 수 있음.\n",
        "values = [1, 2, '안녕', '파이썬', True, False, [1,2,3]]\n",
        "f'{type(values)} / {values}'"
      ],
      "metadata": {
        "colab": {
          "base_uri": "https://localhost:8080/",
          "height": 35
        },
        "id": "N6mDP6yA-5Qz",
        "outputId": "57cd7677-06b0-4f36-e1f6-47aac67d30a1"
      },
      "execution_count": null,
      "outputs": [
        {
          "output_type": "execute_result",
          "data": {
            "text/plain": [
              "\"<class 'list'> / [1, 2, '안녕', '파이썬', True, False, [1, 2, 3]]\""
            ],
            "application/vnd.google.colaboratory.intrinsic+json": {
              "type": "string"
            }
          },
          "metadata": {},
          "execution_count": 14
        }
      ]
    },
    {
      "cell_type": "markdown",
      "source": [
        "# Indexing\n",
        "\n",
        "인덱스를 사용해서 리스트의 아이템을 사용하는 방법.\n"
      ],
      "metadata": {
        "id": "41fniWJIjfYF"
      }
    },
    {
      "cell_type": "code",
      "source": [
        "numbers = [1, -2, 3, 10, -20,100]\n",
        "numbers"
      ],
      "metadata": {
        "id": "jLQOcqCg__V7",
        "colab": {
          "base_uri": "https://localhost:8080/"
        },
        "outputId": "cce023ca-4023-4062-f894-002b49495176"
      },
      "execution_count": null,
      "outputs": [
        {
          "output_type": "execute_result",
          "data": {
            "text/plain": [
              "[1, -2, 3, 10, -20, 100]"
            ]
          },
          "metadata": {},
          "execution_count": 1
        }
      ]
    },
    {
      "cell_type": "code",
      "source": [
        "numbers[0]  # 리스트 numbers의 첫번째 아이템"
      ],
      "metadata": {
        "colab": {
          "base_uri": "https://localhost:8080/"
        },
        "id": "tgaCXqmsj6_n",
        "outputId": "2d5fac4a-a548-495c-f26a-99e88d623d60"
      },
      "execution_count": null,
      "outputs": [
        {
          "output_type": "execute_result",
          "data": {
            "text/plain": [
              "1"
            ]
          },
          "metadata": {},
          "execution_count": 7
        }
      ]
    },
    {
      "cell_type": "code",
      "source": [
        "numbers[5]   # 리스트 numbers의 다섯번째 아이템(마지막 원소)"
      ],
      "metadata": {
        "colab": {
          "base_uri": "https://localhost:8080/"
        },
        "id": "TUSjNV5Sj9me",
        "outputId": "004c4c6e-90bc-4ea1-e9f9-e75440c5707f"
      },
      "execution_count": null,
      "outputs": [
        {
          "output_type": "execute_result",
          "data": {
            "text/plain": [
              "100"
            ]
          },
          "metadata": {},
          "execution_count": 8
        }
      ]
    },
    {
      "cell_type": "code",
      "source": [
        "numbers[-1]     #리스트 numbers의 마지막 아이템(다섯번째 원소)"
      ],
      "metadata": {
        "colab": {
          "base_uri": "https://localhost:8080/"
        },
        "id": "MBoE-WiMk2wG",
        "outputId": "0467f30a-2756-4361-aa7e-19494212dac2"
      },
      "execution_count": null,
      "outputs": [
        {
          "output_type": "execute_result",
          "data": {
            "text/plain": [
              "100"
            ]
          },
          "metadata": {},
          "execution_count": 9
        }
      ]
    },
    {
      "cell_type": "code",
      "source": [
        "numbers[-2]     # 리스트 numbers의 끝에서 두번쨰 아이템"
      ],
      "metadata": {
        "id": "WAIh8nPAlvi-"
      },
      "execution_count": null,
      "outputs": []
    },
    {
      "cell_type": "markdown",
      "source": [
        "# slicing\n",
        "\n",
        "`list[start:end]`\n",
        "*   list에서 인덱스 start <= index < end 범위의 아이템들을 잘라내는 방법\n",
        "*   시작 인덱스 start를 생략하면 첫번째 원소부터 잘라냄. start의 기본값은 0.\n",
        "*   종료 인덱스 end를 생략하면 마지막 원소까지 잘라냄.\n",
        "*   slicing의 결과는 **새로운 리스트**."
      ],
      "metadata": {
        "id": "BeNFuZkkmRzN"
      }
    },
    {
      "cell_type": "code",
      "source": [
        "numbers"
      ],
      "metadata": {
        "colab": {
          "base_uri": "https://localhost:8080/"
        },
        "id": "84zXNjgTnQI0",
        "outputId": "8b57bfbb-934e-4608-f675-b9ffe2efd215"
      },
      "execution_count": null,
      "outputs": [
        {
          "output_type": "execute_result",
          "data": {
            "text/plain": [
              "[1, -2, 3, 10, -20, 100]"
            ]
          },
          "metadata": {},
          "execution_count": 10
        }
      ]
    },
    {
      "cell_type": "code",
      "source": [
        "numbers[1:4]"
      ],
      "metadata": {
        "colab": {
          "base_uri": "https://localhost:8080/"
        },
        "id": "IDfuMuvNnTum",
        "outputId": "6e6a5856-9fef-41e7-eec0-6e376a886d20"
      },
      "execution_count": null,
      "outputs": [
        {
          "output_type": "execute_result",
          "data": {
            "text/plain": [
              "[-2, 3, 10]"
            ]
          },
          "metadata": {},
          "execution_count": 11
        }
      ]
    },
    {
      "cell_type": "code",
      "source": [
        "# 리스트 numbers에서 첫번쨰 원소부터 3개의 원소를 잘라내기\n",
        "numbers[:3] # = numbers[0:3]"
      ],
      "metadata": {
        "colab": {
          "base_uri": "https://localhost:8080/"
        },
        "id": "9l4rjrZRn1Bs",
        "outputId": "2d7485c2-937a-44dd-882a-8900663f21c6"
      },
      "execution_count": null,
      "outputs": [
        {
          "output_type": "execute_result",
          "data": {
            "text/plain": [
              "[1, -2, 3]"
            ]
          },
          "metadata": {},
          "execution_count": 14
        }
      ]
    },
    {
      "cell_type": "code",
      "source": [
        "# 리스트 numbers에서 인덱스 4번 위치부터 마지막 원소까지 잘라냄\n",
        "numbers[4:] # = numbers[4:6]"
      ],
      "metadata": {
        "colab": {
          "base_uri": "https://localhost:8080/"
        },
        "id": "Hx7Zf-5joLy0",
        "outputId": "ec3db1ff-96e7-48b9-a7c6-998a6f9039d1"
      },
      "execution_count": null,
      "outputs": [
        {
          "output_type": "execute_result",
          "data": {
            "text/plain": [
              "[-20, 100]"
            ]
          },
          "metadata": {},
          "execution_count": 16
        }
      ]
    },
    {
      "cell_type": "code",
      "source": [
        "# 리스트 numbers에서 끝에서 2개의 아이템들을 잘라냄.\n",
        "numbers[-2:]"
      ],
      "metadata": {
        "colab": {
          "base_uri": "https://localhost:8080/"
        },
        "id": "mXZA9BORovBl",
        "outputId": "606486e3-8200-4d74-ac67-0396b884ebad"
      },
      "execution_count": null,
      "outputs": [
        {
          "output_type": "execute_result",
          "data": {
            "text/plain": [
              "[-20, 100]"
            ]
          },
          "metadata": {},
          "execution_count": 17
        }
      ]
    },
    {
      "cell_type": "code",
      "source": [
        "print(numbers[0])       # 리스트의 원소\n",
        "print(numbers[0:1])     # 리스트(부분집합)"
      ],
      "metadata": {
        "colab": {
          "base_uri": "https://localhost:8080/"
        },
        "id": "o12wRaCPpzy9",
        "outputId": "c7ce856c-14f0-4232-8230-3bcc71bf604f"
      },
      "execution_count": null,
      "outputs": [
        {
          "output_type": "stream",
          "name": "stdout",
          "text": [
            "1\n",
            "[1]\n"
          ]
        }
      ]
    },
    {
      "cell_type": "code",
      "source": [
        "numbers.append(numbers[:2])\n",
        "numbers"
      ],
      "metadata": {
        "colab": {
          "base_uri": "https://localhost:8080/"
        },
        "id": "RpK0AcaUpRCF",
        "outputId": "38298c7c-db18-4981-f4bc-2cb8113a473f"
      },
      "execution_count": null,
      "outputs": [
        {
          "output_type": "execute_result",
          "data": {
            "text/plain": [
              "[1, -2, 3, 10, -20, 100, [1, -2]]"
            ]
          },
          "metadata": {},
          "execution_count": 20
        }
      ]
    },
    {
      "cell_type": "code",
      "source": [
        "numbers"
      ],
      "metadata": {
        "colab": {
          "base_uri": "https://localhost:8080/"
        },
        "id": "BSFOszVnrOeG",
        "outputId": "dccc43f0-6a48-41fa-ee0a-25f2609f73de"
      },
      "execution_count": null,
      "outputs": [
        {
          "output_type": "execute_result",
          "data": {
            "text/plain": [
              "[1, -2, 3, 10, -20, 100, [1, -2]]"
            ]
          },
          "metadata": {},
          "execution_count": 21
        }
      ]
    },
    {
      "cell_type": "markdown",
      "source": [
        "# 문자열(String)\n",
        "\n",
        "문자열: 문자들의 리스트.\n",
        "*   문자들의 리스트.\n",
        "*   인덱스를 사용할 수 있음.\n",
        "    *   indexing\n",
        "    *   slicing"
      ],
      "metadata": {
        "id": "l3L8CF2JwOiT"
      }
    },
    {
      "cell_type": "code",
      "source": [
        "message = '안녕, Python!'\n",
        "message"
      ],
      "metadata": {
        "colab": {
          "base_uri": "https://localhost:8080/",
          "height": 35
        },
        "id": "Wi4lqytswHv1",
        "outputId": "e00c8ede-dc7a-4eba-8b86-1dab319f112a"
      },
      "execution_count": null,
      "outputs": [
        {
          "output_type": "execute_result",
          "data": {
            "text/plain": [
              "'안녕, Python!'"
            ],
            "application/vnd.google.colaboratory.intrinsic+json": {
              "type": "string"
            }
          },
          "metadata": {},
          "execution_count": 22
        }
      ]
    },
    {
      "cell_type": "code",
      "source": [
        "message[0]# 문자열 message의 첫번째 문자\n"
      ],
      "metadata": {
        "colab": {
          "base_uri": "https://localhost:8080/",
          "height": 35
        },
        "id": "rMGFxoJErRFM",
        "outputId": "41872cff-0954-444c-9b45-6a2fc17a69de"
      },
      "execution_count": null,
      "outputs": [
        {
          "output_type": "execute_result",
          "data": {
            "text/plain": [
              "'안'"
            ],
            "application/vnd.google.colaboratory.intrinsic+json": {
              "type": "string"
            }
          },
          "metadata": {},
          "execution_count": 23
        }
      ]
    },
    {
      "cell_type": "code",
      "source": [
        "message[-1] # 문자열의 마지막 문자"
      ],
      "metadata": {
        "colab": {
          "base_uri": "https://localhost:8080/",
          "height": 35
        },
        "id": "8VBArPgQwrxc",
        "outputId": "3968ab69-45f2-4a5d-e3a0-c6bf903a9e54"
      },
      "execution_count": null,
      "outputs": [
        {
          "output_type": "execute_result",
          "data": {
            "text/plain": [
              "'!'"
            ],
            "application/vnd.google.colaboratory.intrinsic+json": {
              "type": "string"
            }
          },
          "metadata": {},
          "execution_count": 24
        }
      ]
    },
    {
      "cell_type": "code",
      "source": [
        "message[:2]  #문자열에서 첫 두 글자"
      ],
      "metadata": {
        "colab": {
          "base_uri": "https://localhost:8080/",
          "height": 35
        },
        "id": "LPVwjG_lww-X",
        "outputId": "5e88dbda-95e3-4239-f59a-31c831ef06a3"
      },
      "execution_count": null,
      "outputs": [
        {
          "output_type": "execute_result",
          "data": {
            "text/plain": [
              "'안녕'"
            ],
            "application/vnd.google.colaboratory.intrinsic+json": {
              "type": "string"
            }
          },
          "metadata": {},
          "execution_count": 25
        }
      ]
    },
    {
      "cell_type": "code",
      "source": [
        "message[-2:]     #문자열에서 마지막 두 글자"
      ],
      "metadata": {
        "colab": {
          "base_uri": "https://localhost:8080/",
          "height": 35
        },
        "id": "utxHle-8xCPP",
        "outputId": "5eb8a077-479f-4e54-f1f3-34047b96f56e"
      },
      "execution_count": null,
      "outputs": [
        {
          "output_type": "execute_result",
          "data": {
            "text/plain": [
              "'n!'"
            ],
            "application/vnd.google.colaboratory.intrinsic+json": {
              "type": "string"
            }
          },
          "metadata": {},
          "execution_count": 26
        }
      ]
    },
    {
      "cell_type": "markdown",
      "source": [
        "# 리스트의 산술 연산\n",
        "\n",
        "*   `list + list`: concatenate. 2개의 리스트의 원소들을 합쳐서 하나의 리스트로 만듦.\n",
        "*   `list * int`: replicate. 리스트의 원소들을 정수만큼 복사."
      ],
      "metadata": {
        "id": "u_bslDYWxdCM"
      }
    },
    {
      "cell_type": "code",
      "source": [
        "print('안녕' + 'Python')\n",
        "print('안녕' * 3)"
      ],
      "metadata": {
        "colab": {
          "base_uri": "https://localhost:8080/"
        },
        "id": "SJQBupmLxI47",
        "outputId": "ef9254a9-87ad-49ac-e5ba-8c11f5b6b7f4"
      },
      "execution_count": null,
      "outputs": [
        {
          "output_type": "stream",
          "name": "stdout",
          "text": [
            "안녕Python\n",
            "안녕안녕안녕\n"
          ]
        }
      ]
    },
    {
      "cell_type": "code",
      "source": [
        "[1,2,3] +[10,20,30]"
      ],
      "metadata": {
        "colab": {
          "base_uri": "https://localhost:8080/"
        },
        "id": "pjOGizzTx9G9",
        "outputId": "92b750d3-3134-4d72-b6f1-7f9bb1e4fad7"
      },
      "execution_count": null,
      "outputs": [
        {
          "output_type": "execute_result",
          "data": {
            "text/plain": [
              "[1, 2, 3, 10, 20, 30]"
            ]
          },
          "metadata": {},
          "execution_count": 29
        }
      ]
    },
    {
      "cell_type": "code",
      "source": [
        "[1,2,3] * 3"
      ],
      "metadata": {
        "colab": {
          "base_uri": "https://localhost:8080/"
        },
        "id": "QCQwXI9DyGdj",
        "outputId": "dad6126c-80d0-4ae2-8ebf-8c0abaec6133"
      },
      "execution_count": null,
      "outputs": [
        {
          "output_type": "execute_result",
          "data": {
            "text/plain": [
              "[1, 2, 3, 1, 2, 3, 1, 2, 3]"
            ]
          },
          "metadata": {},
          "execution_count": 30
        }
      ]
    },
    {
      "cell_type": "markdown",
      "source": [
        "# list의 기능들 - 함수(메서드)"
      ],
      "metadata": {
        "id": "FixMZ7S8ydyz"
      }
    },
    {
      "cell_type": "markdown",
      "source": [
        "## 원소 추가"
      ],
      "metadata": {
        "id": "oqfn_pS_yv7S"
      }
    },
    {
      "cell_type": "code",
      "source": [
        "numbers = [1, 2, 3, 4, 5]\n",
        "numbers"
      ],
      "metadata": {
        "colab": {
          "base_uri": "https://localhost:8080/"
        },
        "id": "cK-tpHOQySIM",
        "outputId": "0cc93320-019c-4ce8-c60b-416b20fd4e27"
      },
      "execution_count": null,
      "outputs": [
        {
          "output_type": "execute_result",
          "data": {
            "text/plain": [
              "[1, 2, 3, 4, 5]"
            ]
          },
          "metadata": {},
          "execution_count": 40
        }
      ]
    },
    {
      "cell_type": "code",
      "source": [
        "# list.append(값): list의 가장 마지막에 (값)을 추가.\n",
        "numbers.append(100)"
      ],
      "metadata": {
        "id": "pY9jESGyy9tN"
      },
      "execution_count": null,
      "outputs": []
    },
    {
      "cell_type": "code",
      "source": [
        "numbers"
      ],
      "metadata": {
        "colab": {
          "base_uri": "https://localhost:8080/"
        },
        "id": "Mkwqezt2zCAj",
        "outputId": "babdd06f-26a4-4df7-917a-208b5ed758f5"
      },
      "execution_count": null,
      "outputs": [
        {
          "output_type": "execute_result",
          "data": {
            "text/plain": [
              "[1, 2, 3, 4, 5, 100]"
            ]
          },
          "metadata": {},
          "execution_count": 42
        }
      ]
    },
    {
      "cell_type": "code",
      "source": [
        "# list.insert(idx.value): 인덱스 idx 위치 바로 앞에 value를 원소로 추가\n",
        "numbers.insert(0, -1)\n",
        "numbers"
      ],
      "metadata": {
        "colab": {
          "base_uri": "https://localhost:8080/"
        },
        "id": "-U8fRDNCzvob",
        "outputId": "5643ca90-e3bb-4df6-c4f5-b6be4f73da61"
      },
      "execution_count": null,
      "outputs": [
        {
          "output_type": "execute_result",
          "data": {
            "text/plain": [
              "[-1, 1, 2, 3, 4, 5, 100]"
            ]
          },
          "metadata": {},
          "execution_count": 43
        }
      ]
    },
    {
      "cell_type": "code",
      "source": [
        "numbers.insert(-1,-100)\n",
        "numbers"
      ],
      "metadata": {
        "colab": {
          "base_uri": "https://localhost:8080/"
        },
        "id": "sVnSr90p0lhN",
        "outputId": "90597f45-da57-4771-f358-ea17fd31a694"
      },
      "execution_count": null,
      "outputs": [
        {
          "output_type": "execute_result",
          "data": {
            "text/plain": [
              "[-1, 1, 2, 3, 4, 5, -100, 100]"
            ]
          },
          "metadata": {},
          "execution_count": 44
        }
      ]
    },
    {
      "cell_type": "code",
      "source": [
        "# list.extend(iterable): iterable의 원소들을 하나씩 리스트의 끝에 append.\n",
        "numbers.extend([11,22,33])\n",
        "numbers"
      ],
      "metadata": {
        "colab": {
          "base_uri": "https://localhost:8080/"
        },
        "id": "FKBwc4o01IlF",
        "outputId": "0495b5c7-dc61-49bb-ed5d-5576393184c1"
      },
      "execution_count": null,
      "outputs": [
        {
          "output_type": "execute_result",
          "data": {
            "text/plain": [
              "[-1, 1, 2, 3, 4, 5, -100, 100, 11, 22, 33]"
            ]
          },
          "metadata": {},
          "execution_count": 45
        }
      ]
    },
    {
      "cell_type": "code",
      "source": [
        "#(주의) append와 extend의 차이점:\n",
        "# numbers.extend(3) 안됨 iterable이 아니라서\n",
        "numbers.append([1,2,3])"
      ],
      "metadata": {
        "id": "u5pRw5F31f7D"
      },
      "execution_count": null,
      "outputs": []
    },
    {
      "cell_type": "code",
      "source": [
        "numbers"
      ],
      "metadata": {
        "colab": {
          "base_uri": "https://localhost:8080/"
        },
        "id": "TKvOpu332Y1T",
        "outputId": "af11a84c-13b2-414f-a184-b68f2775964d"
      },
      "execution_count": null,
      "outputs": [
        {
          "output_type": "execute_result",
          "data": {
            "text/plain": [
              "[-1, 1, 2, 3, 4, 5, -100, 100, 11, 22, 33, [1, 2, 3]]"
            ]
          },
          "metadata": {},
          "execution_count": 49
        }
      ]
    },
    {
      "cell_type": "markdown",
      "source": [
        "## 원소삭제"
      ],
      "metadata": {
        "id": "L0hSvo_s3Hm7"
      }
    },
    {
      "cell_type": "code",
      "source": [
        "numbers = [1, 2, 3, 10, 20, 30, 1, 2, 3]\n",
        "numbers"
      ],
      "metadata": {
        "colab": {
          "base_uri": "https://localhost:8080/"
        },
        "id": "iTEGlHj72vk0",
        "outputId": "66c07896-a288-4f84-dd24-4a109c4ad4d9"
      },
      "execution_count": null,
      "outputs": [
        {
          "output_type": "execute_result",
          "data": {
            "text/plain": [
              "[1, 2, 3, 10, 20, 30, 1, 2, 3]"
            ]
          },
          "metadata": {},
          "execution_count": 54
        }
      ]
    },
    {
      "cell_type": "code",
      "source": [
        "# list.pop(): list의 가장 마지막 원소를 삭제.\n",
        "numbers.pop()\n",
        "numbers"
      ],
      "metadata": {
        "colab": {
          "base_uri": "https://localhost:8080/"
        },
        "id": "8VjDAXGz3SEk",
        "outputId": "f86bc207-6a86-44f1-c7f1-26f17e9d6878"
      },
      "execution_count": null,
      "outputs": [
        {
          "output_type": "execute_result",
          "data": {
            "text/plain": [
              "[1, 2, 3, 10, 20, 30, 1, 2]"
            ]
          },
          "metadata": {},
          "execution_count": 55
        }
      ]
    },
    {
      "cell_type": "code",
      "source": [
        "# list.pop(index): list에서 index 위치의 아이템을 삭제.\n",
        "numbers.pop(0)\n",
        "numbers"
      ],
      "metadata": {
        "colab": {
          "base_uri": "https://localhost:8080/"
        },
        "id": "pl6_t42f3xaE",
        "outputId": "3a5c54cc-0459-41ea-dc76-a6dcde98cc7d"
      },
      "execution_count": null,
      "outputs": [
        {
          "output_type": "execute_result",
          "data": {
            "text/plain": [
              "[2, 3, 10, 20, 30, 1, 2]"
            ]
          },
          "metadata": {},
          "execution_count": 56
        }
      ]
    },
    {
      "cell_type": "code",
      "source": [
        "# list.remove(value): list에서 첫번째로 등장하는 value를 삭제.\n",
        "numbers.remove(2)\n",
        "numbers"
      ],
      "metadata": {
        "colab": {
          "base_uri": "https://localhost:8080/"
        },
        "id": "Umgrg0EL38gU",
        "outputId": "0a187f61-ea3a-4a85-8860-582b77231d56"
      },
      "execution_count": null,
      "outputs": [
        {
          "output_type": "execute_result",
          "data": {
            "text/plain": [
              "[3, 10, 20, 30, 1, 2]"
            ]
          },
          "metadata": {},
          "execution_count": 57
        }
      ]
    },
    {
      "cell_type": "code",
      "source": [
        "# list.clear(): list의 모든 원소들을 삭제.\n",
        "numbers.clear()\n",
        "numbers"
      ],
      "metadata": {
        "colab": {
          "base_uri": "https://localhost:8080/"
        },
        "id": "uvqWnNZY4q2T",
        "outputId": "407b9210-a12f-4f6c-f366-0f37574ed285"
      },
      "execution_count": null,
      "outputs": [
        {
          "output_type": "execute_result",
          "data": {
            "text/plain": [
              "[]"
            ]
          },
          "metadata": {},
          "execution_count": 58
        }
      ]
    },
    {
      "cell_type": "markdown",
      "source": [
        "## 원소 변경"
      ],
      "metadata": {
        "id": "c0PYFNzr5czr"
      }
    },
    {
      "cell_type": "code",
      "source": [
        "numbers = [1,2,3]\n",
        "numbers"
      ],
      "metadata": {
        "colab": {
          "base_uri": "https://localhost:8080/"
        },
        "id": "ZbC85vT35B90",
        "outputId": "2303c520-e016-4ee4-df92-5ceed3ef7bb6"
      },
      "execution_count": null,
      "outputs": [
        {
          "output_type": "execute_result",
          "data": {
            "text/plain": [
              "[1, 2, 3]"
            ]
          },
          "metadata": {},
          "execution_count": 59
        }
      ]
    },
    {
      "cell_type": "code",
      "source": [
        "#list[index] = value\n",
        "numbers[1] = 3.14\n",
        "numbers"
      ],
      "metadata": {
        "colab": {
          "base_uri": "https://localhost:8080/"
        },
        "id": "tVlO2v_c5hOD",
        "outputId": "bb9d9b4d-a34b-4261-9e95-f7d76b7a4d82"
      },
      "execution_count": null,
      "outputs": [
        {
          "output_type": "execute_result",
          "data": {
            "text/plain": [
              "[1, 3.14, 3]"
            ]
          },
          "metadata": {},
          "execution_count": 60
        }
      ]
    },
    {
      "cell_type": "markdown",
      "source": [
        "# list와 for반복문"
      ],
      "metadata": {
        "id": "b4rWH3sm9uU7"
      }
    },
    {
      "cell_type": "code",
      "source": [
        "numbers = [1,2,3,10,20,30]\n",
        "for x in numbers:\n",
        "    print(x, end = '\\t')"
      ],
      "metadata": {
        "colab": {
          "base_uri": "https://localhost:8080/"
        },
        "id": "Ab4-xgHY6Dbb",
        "outputId": "3a908cb7-52d7-42d0-8c55-6be1a0660db7"
      },
      "execution_count": null,
      "outputs": [
        {
          "output_type": "stream",
          "name": "stdout",
          "text": [
            "1\t2\t3\t10\t20\t30\t"
          ]
        }
      ]
    },
    {
      "cell_type": "code",
      "source": [
        "for index, value in enumerate(numbers):     #enumerate은 리스트의 값과 그 값의 인덱스를 리턴해준다.(앞쪽이 인덱스 뒤쪽이 값)\n",
        "    print(f'{index} : {value}')"
      ],
      "metadata": {
        "colab": {
          "base_uri": "https://localhost:8080/"
        },
        "id": "Oj6uQ8o296Ec",
        "outputId": "5a4fcd72-26e0-4816-a09d-f81ccd8cf6ff"
      },
      "execution_count": null,
      "outputs": [
        {
          "output_type": "stream",
          "name": "stdout",
          "text": [
            "0 : 1\n",
            "1 : 2\n",
            "2 : 3\n",
            "3 : 10\n",
            "4 : 20\n",
            "5 : 30\n"
          ]
        }
      ]
    },
    {
      "cell_type": "markdown",
      "source": [
        "# 연습문제"
      ],
      "metadata": {
        "id": "3d3C_En5_SPS"
      }
    },
    {
      "cell_type": "markdown",
      "source": [
        "## Ex 1.\n",
        "\n",
        "*   빈 리스트 numbers를 만듦. numbers = []\n",
        "*   리스트 numbers에 100미만의 정수 난수 10개 저장.\n",
        "*   numbers를 출력.\n",
        "*   numbers의 원소들 중에서 짝수들로만 이루어진 새로운 리스트 evens를 만들고 출력.\n",
        "*   numbers의 원소들 중에서 홀수들로만 이루어진 새로운 리스트 odds를 만들고 출력."
      ],
      "metadata": {
        "id": "TqCzXvj4_VZS"
      }
    },
    {
      "cell_type": "code",
      "source": [
        "import random"
      ],
      "metadata": {
        "id": "7De47H9q-kUE"
      },
      "execution_count": null,
      "outputs": []
    },
    {
      "cell_type": "code",
      "source": [
        "numbers = []           # 난수들을 저장하기 위한 빈 리스트"
      ],
      "metadata": {
        "id": "8KI8SLEoADwb"
      },
      "execution_count": null,
      "outputs": []
    },
    {
      "cell_type": "code",
      "source": [
        "numbers.append(random.randrange(1,100))\n",
        "numbers\n",
        "# 이것보단 for문을 쓰는게 낫다"
      ],
      "metadata": {
        "colab": {
          "base_uri": "https://localhost:8080/"
        },
        "id": "DttVgBtDAUUj",
        "outputId": "32a3f988-465a-4e20-d8ba-afe12f4aced3"
      },
      "execution_count": null,
      "outputs": [
        {
          "output_type": "execute_result",
          "data": {
            "text/plain": [
              "[37, 74, 91, 23, 19, 8, 93, 48, 62, 1]"
            ]
          },
          "metadata": {},
          "execution_count": 80
        }
      ]
    },
    {
      "cell_type": "code",
      "source": [
        "for _ in range(10):         # '_': 사용할 일이 없는 변수를 명시. 시각적인 help\n",
        "    numbers.append(random.randrange(100))"
      ],
      "metadata": {
        "id": "qTqucDDTC7Zz"
      },
      "execution_count": null,
      "outputs": []
    },
    {
      "cell_type": "code",
      "source": [
        "numbers"
      ],
      "metadata": {
        "colab": {
          "base_uri": "https://localhost:8080/"
        },
        "id": "3unpaxp3DKDL",
        "outputId": "294fb079-7f76-44ba-87a0-b3bfc031e4e1"
      },
      "execution_count": null,
      "outputs": [
        {
          "output_type": "execute_result",
          "data": {
            "text/plain": [
              "[17, 44, 78, 67, 84, 64, 62, 73, 15, 22]"
            ]
          },
          "metadata": {},
          "execution_count": 86
        }
      ]
    },
    {
      "cell_type": "code",
      "source": [
        "evens = []          # 짝수들을 저장하기 위한 빈 리스트\n",
        "odds = []           # 홀수들을 저장하기 위한 빈 리스트"
      ],
      "metadata": {
        "id": "GqXu3fY4BGnE"
      },
      "execution_count": null,
      "outputs": []
    },
    {
      "cell_type": "code",
      "source": [
        "for x in numbers:\n",
        "    if x % 2 == 0:\n",
        "        evens.append(x)\n",
        "    elif x % 2 == 1:\n",
        "        odds.append(x)"
      ],
      "metadata": {
        "id": "O1yU6sEcAbj6"
      },
      "execution_count": null,
      "outputs": []
    },
    {
      "cell_type": "code",
      "source": [
        "print(f'짝수: {evens}')\n",
        "print(f'홀수: {odds}')"
      ],
      "metadata": {
        "colab": {
          "base_uri": "https://localhost:8080/"
        },
        "id": "PiLvDl37BXGj",
        "outputId": "be29bd8e-9408-43aa-ae4b-69b0bb640502"
      },
      "execution_count": null,
      "outputs": [
        {
          "output_type": "stream",
          "name": "stdout",
          "text": [
            "짝수: [44, 78, 84, 64, 62, 22]\n",
            "홀수: [17, 67, 73, 15]\n"
          ]
        }
      ]
    },
    {
      "cell_type": "markdown",
      "source": [
        "## Ex 2.\n",
        "\n",
        "*   integer 이름의 빈리스트 만듦\n",
        "*   리스트 integer에 -10이상 10이하의 정수 난수 10개를 저장하고 출력.\n",
        "*   is_positve 이름의 빈 리스트를 만듦\n",
        "*   integer의 원소가 양수이면 True, 그렇지않으면 False를 is_positive에 저장하고 출력"
      ],
      "metadata": {
        "id": "uCVARWr4W_p5"
      }
    },
    {
      "cell_type": "code",
      "source": [
        "integer = []\n",
        "for _ in range(0,10):\n",
        "    integer.append(random.randrange(-10, 11))\n",
        "print(integer)"
      ],
      "metadata": {
        "colab": {
          "base_uri": "https://localhost:8080/"
        },
        "id": "m7g-UMtwBaq8",
        "outputId": "ece05180-5b0f-47c5-ddaf-eac84e0fd151"
      },
      "execution_count": null,
      "outputs": [
        {
          "output_type": "stream",
          "name": "stdout",
          "text": [
            "[-2, 6, -6, -9, -6, 0, 9, -8, -9, 2]\n"
          ]
        }
      ]
    },
    {
      "cell_type": "code",
      "source": [
        "is_positive = []\n",
        "for x in integer:\n",
        "    if x <= 0:\n",
        "        is_positive.append('True')\n",
        "    else:\n",
        "        is_positive.append('False')\n",
        "\n",
        "\n",
        "print(is_positive)"
      ],
      "metadata": {
        "colab": {
          "base_uri": "https://localhost:8080/"
        },
        "id": "XFOdhivuX5DR",
        "outputId": "c6837534-ba30-444f-d06f-f99da32669e3"
      },
      "execution_count": null,
      "outputs": [
        {
          "output_type": "stream",
          "name": "stdout",
          "text": [
            "['True', 'False', 'True', 'True', 'True', 'True', 'False', 'True', 'True', 'False']\n"
          ]
        }
      ]
    },
    {
      "cell_type": "markdown",
      "source": [
        "## Ex 3.\n"
      ],
      "metadata": {
        "id": "L68QPGo3aCth"
      }
    },
    {
      "cell_type": "code",
      "source": [
        "names = ['Python', 'SQL', 'R', 'Java', 'JavaScript']\n",
        "name_lengths = []   # names에 저장된 문자열의 길이(len(str))들을 저장할 리스트\n",
        "for x in names:\n",
        "    name_lengths.append(len(str(x)))\n",
        "\n",
        "print(name_lengths)"
      ],
      "metadata": {
        "colab": {
          "base_uri": "https://localhost:8080/"
        },
        "id": "LyYEskH9YkIp",
        "outputId": "ed196266-607a-43f0-cf17-5b2c065b7412"
      },
      "execution_count": null,
      "outputs": [
        {
          "output_type": "stream",
          "name": "stdout",
          "text": [
            "[6, 3, 1, 4, 10]\n"
          ]
        }
      ]
    },
    {
      "cell_type": "markdown",
      "source": [
        "# List Comprehension"
      ],
      "metadata": {
        "id": "nQJ95tG-boYQ"
      }
    },
    {
      "cell_type": "code",
      "source": [
        "# 1 ~ 10 정수들을 순서대로 저장하는 리스트\n",
        "numbers = []\n",
        "for x in range(1,11):\n",
        "    numbers.append(x)\n",
        "\n",
        "numbers"
      ],
      "metadata": {
        "colab": {
          "base_uri": "https://localhost:8080/"
        },
        "id": "iUGyC2Lta3EJ",
        "outputId": "16db1370-335c-45c1-e2dc-fe4bbaf6be81"
      },
      "execution_count": null,
      "outputs": [
        {
          "output_type": "execute_result",
          "data": {
            "text/plain": [
              "[1, 2, 3, 4, 5, 6, 7, 8, 9, 10]"
            ]
          },
          "metadata": {},
          "execution_count": 99
        }
      ]
    },
    {
      "cell_type": "code",
      "source": [
        "numbers2 = [x for x in range(1,11)]\n",
        "numbers2"
      ],
      "metadata": {
        "colab": {
          "base_uri": "https://localhost:8080/"
        },
        "id": "WMAX462TcJ0Q",
        "outputId": "cd8c33fd-ae26-4321-d8a1-b83764b7fdca"
      },
      "execution_count": null,
      "outputs": [
        {
          "output_type": "execute_result",
          "data": {
            "text/plain": [
              "[1, 2, 3, 4, 5, 6, 7, 8, 9, 10]"
            ]
          },
          "metadata": {},
          "execution_count": 102
        }
      ]
    },
    {
      "cell_type": "code",
      "source": [
        "# 1 ~ 20 사이의 홀수들을 저장하는 리스트: [1, 3, 5, ..., 17, 19]\n",
        "# odds = []\n",
        "# for x in range(1,20,2):\n",
        "#     odds.append(x)\n",
        "# odds\n",
        "\n",
        "odds = [x for x in range(1, 21, 2)]\n",
        "odds\n"
      ],
      "metadata": {
        "colab": {
          "base_uri": "https://localhost:8080/"
        },
        "id": "2bs8EDQ-cWBw",
        "outputId": "056d7011-e1e7-42dd-a5d2-52636b564fdc"
      },
      "execution_count": null,
      "outputs": [
        {
          "output_type": "execute_result",
          "data": {
            "text/plain": [
              "[1, 3, 5, 7, 9, 11, 13, 15, 17, 19]"
            ]
          },
          "metadata": {},
          "execution_count": 104
        }
      ]
    },
    {
      "cell_type": "code",
      "source": [
        "# 1 ~ 10 정수들의 제곱을 저장하는 리스트: [1, 4, 9, ..., 81, 100]\n",
        "\n",
        "squares = [x * x for x in range(1, 11)]\n",
        "squares"
      ],
      "metadata": {
        "colab": {
          "base_uri": "https://localhost:8080/"
        },
        "id": "NccgyoOIdvK4",
        "outputId": "cea5ad14-c026-4c24-f983-41a7b0aa16a5"
      },
      "execution_count": null,
      "outputs": [
        {
          "output_type": "execute_result",
          "data": {
            "text/plain": [
              "[1, 4, 9, 16, 25, 36, 49, 64, 81, 100]"
            ]
          },
          "metadata": {},
          "execution_count": 109
        }
      ]
    },
    {
      "cell_type": "code",
      "source": [
        "# 0 이상 100 미만의 정수 난수 10개를 저장하는 리스트\n",
        "rand_num = [random.randrange(0, 100) for x in range(10) ]\n",
        "rand_num"
      ],
      "metadata": {
        "colab": {
          "base_uri": "https://localhost:8080/"
        },
        "id": "VMkeqNm2eNoo",
        "outputId": "65c00725-dc96-41f3-a383-146911e1e73b"
      },
      "execution_count": null,
      "outputs": [
        {
          "output_type": "execute_result",
          "data": {
            "text/plain": [
              "[66, 28, 46, 61, 6, 83, 18, 35, 52, 2]"
            ]
          },
          "metadata": {},
          "execution_count": 111
        }
      ]
    },
    {
      "cell_type": "code",
      "source": [
        "# rand_num의 원소들 중에서 짝수들로만 이루어진 리스트\n",
        "# evens = []\n",
        "# for x in rand_num:\n",
        "#     if x % 2 == 0:\n",
        "#         evens.append(x)\n",
        "\n",
        "evens = [x for x in rand_num if x % 2 == 0]     #if 문 뒤에 붙이기 가능.\n",
        "evens"
      ],
      "metadata": {
        "colab": {
          "base_uri": "https://localhost:8080/"
        },
        "id": "8ICwZEpTfcZ5",
        "outputId": "dd2faca2-a8f9-42dc-e79d-8e9ee183da44"
      },
      "execution_count": null,
      "outputs": [
        {
          "output_type": "execute_result",
          "data": {
            "text/plain": [
              "[66, 28, 46, 6, 18, 52, 2]"
            ]
          },
          "metadata": {},
          "execution_count": 122
        }
      ]
    },
    {
      "cell_type": "code",
      "source": [
        "# rand_num의 원소들 중에서 홀수들로만 이루어진 리스트\n",
        "odds = [x for x in rand_num if x % 2 == 1]\n",
        "odds"
      ],
      "metadata": {
        "colab": {
          "base_uri": "https://localhost:8080/"
        },
        "id": "mBpZOLgQgUtM",
        "outputId": "652cac3b-0d54-4f7a-cb72-bf74623c03a9"
      },
      "execution_count": null,
      "outputs": [
        {
          "output_type": "execute_result",
          "data": {
            "text/plain": [
              "[61, 83, 35]"
            ]
          },
          "metadata": {},
          "execution_count": 123
        }
      ]
    },
    {
      "cell_type": "markdown",
      "source": [
        "## if-else 표현식\n",
        "\n",
        "`값1 if 조건식 else 값2`: 조건식이 참일 때는 값1을 선택, 그렇지 않으면 값2를 선택.\n",
        "\n"
      ],
      "metadata": {
        "id": "kwCGaFjimCYY"
      }
    },
    {
      "cell_type": "code",
      "source": [
        "x = 13\n",
        "is_even = True if x  % 2 == 0 else False\n",
        "is_even"
      ],
      "metadata": {
        "colab": {
          "base_uri": "https://localhost:8080/"
        },
        "id": "odB8fF44hdxR",
        "outputId": "f43d04f0-bccb-499f-c77c-112f4bd350b9"
      },
      "execution_count": null,
      "outputs": [
        {
          "output_type": "execute_result",
          "data": {
            "text/plain": [
              "False"
            ]
          },
          "metadata": {},
          "execution_count": 126
        }
      ]
    },
    {
      "cell_type": "code",
      "source": [
        "# rand_numbers의 원소가 짝수이면 True, 그렇지 않으면 False를 저장하는 리스트\n",
        "print(rand_num)\n",
        "# is_even = []\n",
        "# for x in rand_num:\n",
        "#     if x % 2 == 0:\n",
        "#         is_even.append(True)\n",
        "#     else:\n",
        "#         is_even.append(False)\n",
        "\n",
        "is_even = [True if x % 2 == 0 else False for x in rand_num]\n",
        "\n",
        "is_even"
      ],
      "metadata": {
        "colab": {
          "base_uri": "https://localhost:8080/"
        },
        "id": "gQsDH9C3mhqw",
        "outputId": "eb6d7265-4df5-48c0-fcbe-ca9652aba4f9"
      },
      "execution_count": null,
      "outputs": [
        {
          "output_type": "stream",
          "name": "stdout",
          "text": [
            "[66, 28, 46, 61, 6, 83, 18, 35, 52, 2]\n"
          ]
        },
        {
          "output_type": "execute_result",
          "data": {
            "text/plain": [
              "[True, True, True, False, True, False, True, False, True, True]"
            ]
          },
          "metadata": {},
          "execution_count": 132
        }
      ]
    },
    {
      "cell_type": "code",
      "source": [
        "gender_codes = [random.randrange(2) for _ in range(10)]\n",
        "print(gender_codes)\n",
        "\n",
        "# gender_codes의 원소가 0이면 '남성', 그렇지 않으면 '여성'.\n",
        "genders = ['남성' if x == 0  else '여성' for x in  gender_codes]\n",
        "genders"
      ],
      "metadata": {
        "colab": {
          "base_uri": "https://localhost:8080/"
        },
        "id": "dkPCmTM0nPT4",
        "outputId": "c4f7f2b8-f45b-490d-b754-c0c31bae285b"
      },
      "execution_count": null,
      "outputs": [
        {
          "output_type": "stream",
          "name": "stdout",
          "text": [
            "[0, 1, 0, 1, 1, 0, 0, 1, 0, 0]\n"
          ]
        },
        {
          "output_type": "execute_result",
          "data": {
            "text/plain": [
              "['남성', '여성', '남성', '여성', '여성', '남성', '남성', '여성', '남성', '남성']"
            ]
          },
          "metadata": {},
          "execution_count": 136
        }
      ]
    },
    {
      "cell_type": "markdown",
      "source": [
        "# `zip()`함수와 for 반복문"
      ],
      "metadata": {
        "id": "yxIks_W1p-Zg"
      }
    },
    {
      "cell_type": "code",
      "source": [
        "numbers1 = [1,2,3,4,5]\n",
        "numbers2 = [1,3,5,7,9]\n",
        "\n",
        "# 두 리스트 numbers1과 numbers2의 같은 인덱스에 있는 원소들끼리 덧셈 결과를 저장하는 리스트\n",
        "\n",
        "add = []\n",
        "for i in range(5):\n",
        "    add.append(numbers1[i] + numbers2[i])\n",
        "\n",
        "add"
      ],
      "metadata": {
        "colab": {
          "base_uri": "https://localhost:8080/"
        },
        "id": "NpZh0Xmfo0EY",
        "outputId": "43ec26fa-b968-47b2-8ebe-8683b3c0f1d1"
      },
      "execution_count": null,
      "outputs": [
        {
          "output_type": "execute_result",
          "data": {
            "text/plain": [
              "[2, 5, 8, 11, 14]"
            ]
          },
          "metadata": {},
          "execution_count": 147
        }
      ]
    },
    {
      "cell_type": "code",
      "source": [
        "adds2 = []\n",
        "for x , y in zip(numbers1, numbers2)\n",
        "    adds2.append(x + y)\n",
        "\n",
        "adds2"
      ],
      "metadata": {
        "colab": {
          "base_uri": "https://localhost:8080/"
        },
        "id": "XENasLnHqcgn",
        "outputId": "4b6c5af6-7840-4a36-dc69-cce9cbf22dfb"
      },
      "execution_count": null,
      "outputs": [
        {
          "output_type": "execute_result",
          "data": {
            "text/plain": [
              "[2, 5, 8, 11, 14]"
            ]
          },
          "metadata": {},
          "execution_count": 143
        }
      ]
    },
    {
      "cell_type": "code",
      "source": [
        "add3 = [x + y for x, y in zip(numbers1, numbers2)]\n",
        "add3"
      ],
      "metadata": {
        "colab": {
          "base_uri": "https://localhost:8080/"
        },
        "id": "BcxMLRLxsrUh",
        "outputId": "a7d93b08-715c-4484-d880-466efebc27b7"
      },
      "execution_count": null,
      "outputs": [
        {
          "output_type": "execute_result",
          "data": {
            "text/plain": [
              "[2, 5, 8, 11, 14]"
            ]
          },
          "metadata": {},
          "execution_count": 145
        }
      ]
    },
    {
      "cell_type": "code",
      "source": [
        "# numbers1과 numbers2의 같은 인덱스에 있는 원소들의 뺄셈결과를 저장하는 리스트\n",
        "subtracts = [x - y for x, y in zip(numbers1, numbers2)]\n",
        "subtracts"
      ],
      "metadata": {
        "colab": {
          "base_uri": "https://localhost:8080/"
        },
        "id": "rY_kupPTt-8-",
        "outputId": "99108186-f292-4ddd-d8cd-ba360c609ef7"
      },
      "execution_count": null,
      "outputs": [
        {
          "output_type": "execute_result",
          "data": {
            "text/plain": [
              "[0, -1, -2, -3, -4]"
            ]
          },
          "metadata": {},
          "execution_count": 146
        }
      ]
    },
    {
      "cell_type": "markdown",
      "source": [
        "# 다차원 리스트\n",
        "\n",
        "리스트를 원소로 갖는 리스트."
      ],
      "metadata": {
        "id": "QL9cUz27zclQ"
      }
    },
    {
      "cell_type": "code",
      "source": [
        "matrix = [\n",
        "    [1,2,3],\n",
        "    [4,5,6,7],\n",
        "    [8,9]\n",
        "]\n",
        "matrix"
      ],
      "metadata": {
        "colab": {
          "base_uri": "https://localhost:8080/"
        },
        "id": "HiaHo4ZQumlQ",
        "outputId": "e750bfd8-0847-42e2-8386-5a9299c0b73a"
      },
      "execution_count": null,
      "outputs": [
        {
          "output_type": "execute_result",
          "data": {
            "text/plain": [
              "[[1, 2, 3], [4, 5, 6, 7], [8, 9]]"
            ]
          },
          "metadata": {},
          "execution_count": 149
        }
      ]
    },
    {
      "cell_type": "code",
      "source": [
        "len(matrix)"
      ],
      "metadata": {
        "colab": {
          "base_uri": "https://localhost:8080/"
        },
        "id": "mdkqvhXg0KPX",
        "outputId": "b1d5d924-2e7d-4261-f182-5a6113ea2de8"
      },
      "execution_count": null,
      "outputs": [
        {
          "output_type": "execute_result",
          "data": {
            "text/plain": [
              "3"
            ]
          },
          "metadata": {},
          "execution_count": 150
        }
      ]
    },
    {
      "cell_type": "code",
      "source": [
        "matrix[0]"
      ],
      "metadata": {
        "colab": {
          "base_uri": "https://localhost:8080/"
        },
        "id": "dT2QX-pY0g5W",
        "outputId": "c5f8a715-ecb6-4f4a-bbf0-95f6d4ed9569"
      },
      "execution_count": null,
      "outputs": [
        {
          "output_type": "execute_result",
          "data": {
            "text/plain": [
              "[1, 2, 3]"
            ]
          },
          "metadata": {},
          "execution_count": 151
        }
      ]
    },
    {
      "cell_type": "code",
      "source": [
        "matrix[0][0]"
      ],
      "metadata": {
        "colab": {
          "base_uri": "https://localhost:8080/"
        },
        "id": "VXo1Dfqq0u52",
        "outputId": "9aa656bf-bd94-4dc5-bf87-ac051d0746e3"
      },
      "execution_count": null,
      "outputs": [
        {
          "output_type": "execute_result",
          "data": {
            "text/plain": [
              "1"
            ]
          },
          "metadata": {},
          "execution_count": 152
        }
      ]
    },
    {
      "cell_type": "code",
      "source": [
        "matrix[1][3]"
      ],
      "metadata": {
        "colab": {
          "base_uri": "https://localhost:8080/"
        },
        "id": "VI3YtHaG06-N",
        "outputId": "90c928b8-cb8e-4d45-cbe4-aa0ec4f81869"
      },
      "execution_count": null,
      "outputs": [
        {
          "output_type": "execute_result",
          "data": {
            "text/plain": [
              "7"
            ]
          },
          "metadata": {},
          "execution_count": 154
        }
      ]
    },
    {
      "cell_type": "code",
      "source": [
        "matrix[-1][-1]"
      ],
      "metadata": {
        "colab": {
          "base_uri": "https://localhost:8080/"
        },
        "id": "8B6PFzLS1Ok1",
        "outputId": "1a351603-d399-4ed0-d418-7446ed147460"
      },
      "execution_count": null,
      "outputs": [
        {
          "output_type": "execute_result",
          "data": {
            "text/plain": [
              "9"
            ]
          },
          "metadata": {},
          "execution_count": 156
        }
      ]
    },
    {
      "cell_type": "markdown",
      "source": [
        "## 다차원 리스트와 for 반복문"
      ],
      "metadata": {
        "id": "mCg-Hqbx2BlH"
      }
    },
    {
      "cell_type": "code",
      "source": [
        "for x in matrix:\n",
        "    print(x)"
      ],
      "metadata": {
        "colab": {
          "base_uri": "https://localhost:8080/"
        },
        "id": "G1d32DMj1iZu",
        "outputId": "aaa832cb-4d63-4c41-c637-c64ece674652"
      },
      "execution_count": null,
      "outputs": [
        {
          "output_type": "stream",
          "name": "stdout",
          "text": [
            "[1, 2, 3]\n",
            "[4, 5, 6, 7]\n",
            "[8, 9]\n"
          ]
        }
      ]
    },
    {
      "cell_type": "code",
      "source": [
        "for row in matrix:\n",
        "    for x in row:\n",
        "        print(x, end = '\\t')\n",
        "    print()"
      ],
      "metadata": {
        "colab": {
          "base_uri": "https://localhost:8080/"
        },
        "id": "RVGlDsOD2LWN",
        "outputId": "482a91fa-bd5c-4db1-b54b-b96379d90b19"
      },
      "execution_count": null,
      "outputs": [
        {
          "output_type": "stream",
          "name": "stdout",
          "text": [
            "1\t2\t3\t\n",
            "4\t5\t6\t7\t\n",
            "8\t9\t\n"
          ]
        }
      ]
    },
    {
      "cell_type": "code",
      "source": [
        "matrix_3d = [\n",
        "    [\n",
        "        [1,2,3],\n",
        "        [4,5,6]\n",
        "    ],\n",
        "    [\n",
        "        [7,8,9],\n",
        "        [0,1,2]\n",
        "    ]\n",
        "]\n",
        "matrix_3d"
      ],
      "metadata": {
        "colab": {
          "base_uri": "https://localhost:8080/"
        },
        "id": "WRLLWC5b2j52",
        "outputId": "de8fca81-54f2-4af0-b144-fa5dfb737ec7"
      },
      "execution_count": null,
      "outputs": [
        {
          "output_type": "execute_result",
          "data": {
            "text/plain": [
              "[[[1, 2, 3], [4, 5, 6]], [[7, 8, 9], [0, 1, 2]]]"
            ]
          },
          "metadata": {},
          "execution_count": 161
        }
      ]
    },
    {
      "cell_type": "code",
      "source": [
        "len(matrix_3d)"
      ],
      "metadata": {
        "colab": {
          "base_uri": "https://localhost:8080/"
        },
        "id": "JXqoZ5fA4l4v",
        "outputId": "2252bc40-a4fa-4781-83a8-2e5824c00baa"
      },
      "execution_count": null,
      "outputs": [
        {
          "output_type": "execute_result",
          "data": {
            "text/plain": [
              "2"
            ]
          },
          "metadata": {},
          "execution_count": 165
        }
      ]
    },
    {
      "cell_type": "code",
      "source": [
        "matrix_3d[0][0][0]"
      ],
      "metadata": {
        "colab": {
          "base_uri": "https://localhost:8080/"
        },
        "id": "Nv_89Mp-4b0-",
        "outputId": "24094df6-07b2-4d9a-fb82-0dcd2780d1c0"
      },
      "execution_count": null,
      "outputs": [
        {
          "output_type": "execute_result",
          "data": {
            "text/plain": [
              "1"
            ]
          },
          "metadata": {},
          "execution_count": 164
        }
      ]
    },
    {
      "cell_type": "code",
      "source": [],
      "metadata": {
        "id": "6cL0-4lP4g8e"
      },
      "execution_count": null,
      "outputs": []
    }
  ]
}