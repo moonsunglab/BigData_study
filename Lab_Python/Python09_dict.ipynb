{
  "nbformat": 4,
  "nbformat_minor": 0,
  "metadata": {
    "colab": {
      "provenance": [],
      "authorship_tag": "ABX9TyOgcL0q1OVxjuVAxTn09Ps1",
      "include_colab_link": true
    },
    "kernelspec": {
      "name": "python3",
      "display_name": "Python 3"
    },
    "language_info": {
      "name": "python"
    }
  },
  "cells": [
    {
      "cell_type": "markdown",
      "metadata": {
        "id": "view-in-github",
        "colab_type": "text"
      },
      "source": [
        "<a href=\"https://colab.research.google.com/github/moonsunglab/BigData_study/blob/main/Lab_Python/Python09_dict.ipynb\" target=\"_parent\"><img src=\"https://colab.research.google.com/assets/colab-badge.svg\" alt=\"Open In Colab\"/></a>"
      ]
    },
    {
      "cell_type": "markdown",
      "source": [
        "# dict\n",
        "\n",
        "*   사전(dictionary) 형식의 데이터 타입\n",
        "*   키(key)와 값(value)을 쌍으로 저장하는 데이터 타입\n",
        "    *   list, tuple: 인덱스를 기반으로 값(들)을 저장하는 데이터 타입.\n",
        "    *   dict: 키를 기반으로 값을 저장하는 데이터 타입.\n",
        "    *   dict 타입에서 키의 역할은 list나 tuple에서 인덱스의 역할과 비슷.\n",
        "        *   dict에 저장된 1개의 값을 참조할 때 사용.\n",
        "        *   키는 중복된 값을 허용하지 않음.\n",
        "        "
      ],
      "metadata": {
        "id": "Gx0KfSIbjFHG"
      }
    },
    {
      "cell_type": "code",
      "execution_count": null,
      "metadata": {
        "colab": {
          "base_uri": "https://localhost:8080/"
        },
        "id": "AvqklhyAi-pM",
        "outputId": "ce552028-b7b5-4e39-c380-1e63f9c92758"
      },
      "outputs": [
        {
          "output_type": "stream",
          "name": "stdout",
          "text": [
            "<class 'dict'>\n",
            "{100: '홍길동', 101: '오쌤', 200: 'Scott', 300: 'King'}\n"
          ]
        }
      ],
      "source": [
        "students = {100: '홍길동', 101: '오쌤', 200: 'Scott', 300: 'King'}\n",
        "print(type(students))\n",
        "print(students)"
      ]
    },
    {
      "cell_type": "code",
      "source": [
        "students[101]       # dict_var[key] => key에 매핑된 값을 찾음."
      ],
      "metadata": {
        "colab": {
          "base_uri": "https://localhost:8080/",
          "height": 35
        },
        "id": "tS2yVNJBk4tn",
        "outputId": "4670107f-1b14-4eee-acd9-a01c7c5cc8b0"
      },
      "execution_count": null,
      "outputs": [
        {
          "output_type": "execute_result",
          "data": {
            "text/plain": [
              "'오쌤'"
            ],
            "application/vnd.google.colaboratory.intrinsic+json": {
              "type": "string"
            }
          },
          "metadata": {},
          "execution_count": 5
        }
      ]
    },
    {
      "cell_type": "markdown",
      "source": [
        "# dict 함수(메서드)\n"
      ],
      "metadata": {
        "id": "MVSHonDblZpN"
      }
    },
    {
      "cell_type": "code",
      "source": [
        "# dict_var.keys(): dict_var가 가지고 있는 키들의 리스트를 리턴.\n",
        "students.keys()"
      ],
      "metadata": {
        "colab": {
          "base_uri": "https://localhost:8080/"
        },
        "id": "zgzNyTxElDXO",
        "outputId": "e61db7c3-fdff-4180-b113-358b65e9d0d7"
      },
      "execution_count": null,
      "outputs": [
        {
          "output_type": "execute_result",
          "data": {
            "text/plain": [
              "dict_keys([100, 101, 200, 300])"
            ]
          },
          "metadata": {},
          "execution_count": 6
        }
      ]
    },
    {
      "cell_type": "code",
      "source": [
        "# dict_var.values(): dict_var가 가지고 있는 값들의 리스트를 리턴.\n",
        "students.values()"
      ],
      "metadata": {
        "colab": {
          "base_uri": "https://localhost:8080/"
        },
        "id": "WDuh4l55lmoN",
        "outputId": "edc6f356-901f-401b-e688-c2948d3727c3"
      },
      "execution_count": null,
      "outputs": [
        {
          "output_type": "execute_result",
          "data": {
            "text/plain": [
              "dict_values(['홍길동', '오쌤', 'Scott', 'King'])"
            ]
          },
          "metadata": {},
          "execution_count": 7
        }
      ]
    },
    {
      "cell_type": "code",
      "source": [
        "# dict_var.items(): (key, value) 튜플들의 리스트를 리턴.\n",
        "students.items()"
      ],
      "metadata": {
        "colab": {
          "base_uri": "https://localhost:8080/"
        },
        "id": "akGtZ22smAz1",
        "outputId": "0a42993f-d253-467e-f9a1-58043106d446"
      },
      "execution_count": null,
      "outputs": [
        {
          "output_type": "execute_result",
          "data": {
            "text/plain": [
              "dict_items([(100, '홍길동'), (101, '오쌤'), (200, 'Scott'), (300, 'King')])"
            ]
          },
          "metadata": {},
          "execution_count": 9
        }
      ]
    },
    {
      "cell_type": "code",
      "source": [
        "# dict_var.get(key): key에 매핑된 값(value)를 리턴.  dict_var[key]와 동일.\n",
        "students.get(100)"
      ],
      "metadata": {
        "colab": {
          "base_uri": "https://localhost:8080/",
          "height": 35
        },
        "id": "-igZ7U5AmPVG",
        "outputId": "14df9a00-6ec7-4528-eac5-cc93a35ea0b7"
      },
      "execution_count": null,
      "outputs": [
        {
          "output_type": "execute_result",
          "data": {
            "text/plain": [
              "'홍길동'"
            ],
            "application/vnd.google.colaboratory.intrinsic+json": {
              "type": "string"
            }
          },
          "metadata": {},
          "execution_count": 10
        }
      ]
    },
    {
      "cell_type": "markdown",
      "source": [
        "`dict_var[key] = value`\n",
        "\n",
        "*   key가 dict_var 안에 있을 때, key에 해당하는 값을 새로운 값으로 재할당(변경).\n",
        "*   key가 dict_var 안에 없을 때, 새로운 key_value 아이템을 dict_var에 추가."
      ],
      "metadata": {
        "id": "LjL1ncPqnKll"
      }
    },
    {
      "cell_type": "code",
      "source": [
        "students[300] = 'Allen'\n",
        "students"
      ],
      "metadata": {
        "colab": {
          "base_uri": "https://localhost:8080/"
        },
        "id": "2u-BOiSam2ZV",
        "outputId": "4639e50f-be8e-4073-86cc-742c3018ab77"
      },
      "execution_count": null,
      "outputs": [
        {
          "output_type": "execute_result",
          "data": {
            "text/plain": [
              "{100: '홍길동', 101: '오쌤', 200: 'Scott', 300: 'Allen'}"
            ]
          },
          "metadata": {},
          "execution_count": 12
        }
      ]
    },
    {
      "cell_type": "code",
      "source": [
        "students[301] = 'Tiger'\n",
        "students"
      ],
      "metadata": {
        "colab": {
          "base_uri": "https://localhost:8080/"
        },
        "id": "S1ssuHdlnn31",
        "outputId": "f4b41ffd-e0e5-4448-d58d-2aaf06da16f0"
      },
      "execution_count": null,
      "outputs": [
        {
          "output_type": "execute_result",
          "data": {
            "text/plain": [
              "{100: '홍길동', 101: '오쌤', 200: 'Scott', 300: 'Allen', 301: 'Tiger'}"
            ]
          },
          "metadata": {},
          "execution_count": 13
        }
      ]
    },
    {
      "cell_type": "markdown",
      "source": [
        "# dict와 for 반복문"
      ],
      "metadata": {
        "id": "XWn35hxYoGYc"
      }
    },
    {
      "cell_type": "code",
      "source": [
        "# for-in 반복문에서 dict 타입 갯체를 사용하면 key들을 순회(iteration).\n",
        "for k in students:\n",
        "    print(k, ':' , students[k])"
      ],
      "metadata": {
        "colab": {
          "base_uri": "https://localhost:8080/"
        },
        "id": "Geli7fBen0x2",
        "outputId": "77a1f2c9-af4f-4f22-e241-24ed17170468"
      },
      "execution_count": null,
      "outputs": [
        {
          "output_type": "stream",
          "name": "stdout",
          "text": [
            "100 : 홍길동\n",
            "101 : 오쌤\n",
            "200 : Scott\n",
            "300 : Allen\n",
            "301 : Tiger\n"
          ]
        }
      ]
    },
    {
      "cell_type": "code",
      "source": [
        "for k, v in students.items():\n",
        "    print(k, ':' , v)"
      ],
      "metadata": {
        "colab": {
          "base_uri": "https://localhost:8080/"
        },
        "id": "qYxQbNzdoPW1",
        "outputId": "84b85618-6756-4d3a-958e-df8e8566ff74"
      },
      "execution_count": null,
      "outputs": [
        {
          "output_type": "stream",
          "name": "stdout",
          "text": [
            "100 : 홍길동\n",
            "101 : 오쌤\n",
            "200 : Scott\n",
            "300 : Allen\n",
            "301 : Tiger\n"
          ]
        }
      ]
    },
    {
      "cell_type": "code",
      "source": [
        "book = {'title' : '파이썬 예제', 'author' : '오쌤' , 'price' : 10_000}\n",
        "print(book)\n",
        "print(book['title'])\n",
        "print(book.get('author'))\n",
        "for k, v in book.items():\n",
        "    print(k, ':' , v)"
      ],
      "metadata": {
        "colab": {
          "base_uri": "https://localhost:8080/"
        },
        "id": "dvDz0Gbvo_HW",
        "outputId": "4971b05f-4069-483d-ff74-e6fc7dcbd84c"
      },
      "execution_count": null,
      "outputs": [
        {
          "output_type": "stream",
          "name": "stdout",
          "text": [
            "{'title': '파이썬 예제', 'author': '오쌤', 'price': 10000}\n",
            "파이썬 예제\n",
            "오쌤\n",
            "title : 파이썬 예제\n",
            "author : 오쌤\n",
            "price : 10000\n"
          ]
        }
      ]
    },
    {
      "cell_type": "markdown",
      "source": [
        "dict는 key와 value 모두 다양한 타입의 자료들을 사용할 수 있음."
      ],
      "metadata": {
        "id": "JTd8U3D_qyOO"
      }
    },
    {
      "cell_type": "markdown",
      "source": [
        "# 다양한 자료들을 저장하는 dict"
      ],
      "metadata": {
        "id": "-sorjycprBOj"
      }
    },
    {
      "cell_type": "code",
      "source": [
        "contact = {\n",
        "    'id'     : 1,\n",
        "    'name'   : '오쌤',\n",
        "    'phones' : ['010-1234-5678' , '02-1234-5678' , '02-0000-0000'],\n",
        "    'emails' : {'company' :'jake@itwill.com', 'personal' : ' jake@naver.com'}\n",
        "}\n",
        "\n",
        "contact"
      ],
      "metadata": {
        "colab": {
          "base_uri": "https://localhost:8080/"
        },
        "id": "CWwxRVaZqSIN",
        "outputId": "1ff02220-1ecf-484e-b57d-594eba5a76a1"
      },
      "execution_count": null,
      "outputs": [
        {
          "output_type": "execute_result",
          "data": {
            "text/plain": [
              "{'id': 1,\n",
              " 'name': '오쌤',\n",
              " 'phones': ['010-1234-5678', '02-1234-5678', '02-0000-0000'],\n",
              " 'emails': {'company': 'jake@itwill.com', 'personal': ' jake@naver.com'}}"
            ]
          },
          "metadata": {},
          "execution_count": 21
        }
      ]
    },
    {
      "cell_type": "code",
      "source": [
        "contact['id']   # contact,get['id']"
      ],
      "metadata": {
        "colab": {
          "base_uri": "https://localhost:8080/"
        },
        "id": "RkqEjSJNsDTt",
        "outputId": "653006f7-527b-47bd-bbf7-7bd5a6d29b97"
      },
      "execution_count": null,
      "outputs": [
        {
          "output_type": "execute_result",
          "data": {
            "text/plain": [
              "1"
            ]
          },
          "metadata": {},
          "execution_count": 23
        }
      ]
    },
    {
      "cell_type": "code",
      "source": [
        "# 첫번째 전화번호만 출력\n",
        "contact['phones'][0]"
      ],
      "metadata": {
        "colab": {
          "base_uri": "https://localhost:8080/",
          "height": 35
        },
        "id": "h0BUmfyesKZt",
        "outputId": "775976e7-4e85-49f6-9479-97079105f66b"
      },
      "execution_count": null,
      "outputs": [
        {
          "output_type": "execute_result",
          "data": {
            "text/plain": [
              "'010-1234-5678'"
            ],
            "application/vnd.google.colaboratory.intrinsic+json": {
              "type": "string"
            }
          },
          "metadata": {},
          "execution_count": 24
        }
      ]
    },
    {
      "cell_type": "code",
      "source": [
        "# 회사 이메일만 출력\n",
        "# contact['emails']['company']\n",
        "contact.get('emails').get('company')        #dict 안의 dict니까"
      ],
      "metadata": {
        "colab": {
          "base_uri": "https://localhost:8080/",
          "height": 35
        },
        "id": "WqQgWZNgsdod",
        "outputId": "9223ddaf-3385-41e9-f7ef-fe02d3e5ee2e"
      },
      "execution_count": null,
      "outputs": [
        {
          "output_type": "execute_result",
          "data": {
            "text/plain": [
              "'jake@itwill.com'"
            ],
            "application/vnd.google.colaboratory.intrinsic+json": {
              "type": "string"
            }
          },
          "metadata": {},
          "execution_count": 26
        }
      ]
    },
    {
      "cell_type": "markdown",
      "source": [
        "# Dictionary Comprehension"
      ],
      "metadata": {
        "id": "yUjOUhOY-hez"
      }
    },
    {
      "cell_type": "code",
      "source": [
        "from os import name\n",
        "emp_no = [1001, 1002, 1003, 1004]\n",
        "emp_name = ['Scott', 'Allen', 'King', '오쌤']\n",
        "\n",
        "# emp_no의 숫자를 키로 하고, emp_name의 문자열을 값으로 하는 dictionary\n",
        "emp = {}    #빈 dictinary\n",
        "for no, name in zip(emp_no, emp_name):\n",
        "    emp[no] = name\n",
        "emp"
      ],
      "metadata": {
        "colab": {
          "base_uri": "https://localhost:8080/"
        },
        "id": "tOaChqZ6s3hE",
        "outputId": "4f9504fb-67b0-4deb-d509-e2553834db98"
      },
      "execution_count": null,
      "outputs": [
        {
          "output_type": "execute_result",
          "data": {
            "text/plain": [
              "{1001: 'Scott', 1002: 'Allen', 1003: 'King', 1004: '오쌤'}"
            ]
          },
          "metadata": {},
          "execution_count": 29
        }
      ]
    },
    {
      "cell_type": "code",
      "source": [
        "emp2 = {no: name for no, name in zip(emp_no, emp_name)}\n",
        "emp2"
      ],
      "metadata": {
        "colab": {
          "base_uri": "https://localhost:8080/"
        },
        "id": "BFmzHQYtAGZ0",
        "outputId": "0dfea8a3-32aa-4c06-d277-91a68fec04e0"
      },
      "execution_count": null,
      "outputs": [
        {
          "output_type": "execute_result",
          "data": {
            "text/plain": [
              "{1001: 'Scott', 1002: 'Allen', 1003: 'King', 1004: '오쌤'}"
            ]
          },
          "metadata": {},
          "execution_count": 30
        }
      ]
    },
    {
      "cell_type": "code",
      "source": [
        "fruits = ['apple' , 'banana' , 'cherry' , 'pineapple' , 'watermelon']\n",
        "\n",
        "# fruit_lengths: fruits의 문자열을 키로 하고, 그 문자열의 길이를 값으로 dict"
      ],
      "metadata": {
        "id": "S1grBRNhAZ1i"
      },
      "execution_count": null,
      "outputs": []
    },
    {
      "cell_type": "code",
      "source": [
        "fruit_lengths = {}      # dict() = {}\n",
        "for x in fruits:\n",
        "    fruit_lengths[x] = len(x)\n",
        "\n",
        "fruit_lengths\n",
        "\n"
      ],
      "metadata": {
        "colab": {
          "base_uri": "https://localhost:8080/"
        },
        "id": "rX6LZPBvBEa7",
        "outputId": "03cf6576-5560-4f9d-cead-cb0803ef8f08"
      },
      "execution_count": null,
      "outputs": [
        {
          "output_type": "execute_result",
          "data": {
            "text/plain": [
              "{'apple': 5, 'banana': 6, 'cherry': 6, 'pineapple': 9, 'watermelon': 10}"
            ]
          },
          "metadata": {},
          "execution_count": 39
        }
      ]
    },
    {
      "cell_type": "code",
      "source": [
        "fruit_lengths2 = {x: len(x)  for x in fruits}\n",
        "fruit_lengths2"
      ],
      "metadata": {
        "colab": {
          "base_uri": "https://localhost:8080/"
        },
        "id": "Cj0aPRpSBKID",
        "outputId": "b38e5961-8562-4348-8931-5bb2db8bb680"
      },
      "execution_count": null,
      "outputs": [
        {
          "output_type": "execute_result",
          "data": {
            "text/plain": [
              "{'apple': 5, 'banana': 6, 'cherry': 6, 'pineapple': 9, 'watermelon': 10}"
            ]
          },
          "metadata": {},
          "execution_count": 42
        }
      ]
    },
    {
      "cell_type": "code",
      "source": [
        "words = ['one', 'little', 'two' , 'little' , 'three' , 'little' , 'indian' , 'indian']\n",
        "words"
      ],
      "metadata": {
        "colab": {
          "base_uri": "https://localhost:8080/"
        },
        "id": "uKUcREsBCndT",
        "outputId": "601ecb83-fc55-430d-a9f7-d6e1dcdf697f"
      },
      "execution_count": null,
      "outputs": [
        {
          "output_type": "execute_result",
          "data": {
            "text/plain": [
              "['one', 'little', 'two', 'little', 'three', 'little', 'indian', 'indian']"
            ]
          },
          "metadata": {},
          "execution_count": 43
        }
      ]
    },
    {
      "cell_type": "markdown",
      "source": [
        "리스트 word의 단어를 키로 하고, 그 단어가 리스트에 등장하는 횟수를 값으로 하는 dict 를 만들고 출력하세요\n",
        "\n",
        "`결과: {'one' : 1, 'little': 3, 'two' :1, 'three' : 1, 'indian' : 2}`"
      ],
      "metadata": {
        "id": "GYgBPCZ7DJBS"
      }
    },
    {
      "cell_type": "code",
      "source": [
        "words_count = {}\n",
        "for x in words:\n",
        "    words_count[x] =  words.count(x)\n",
        "\n",
        "words_count"
      ],
      "metadata": {
        "colab": {
          "base_uri": "https://localhost:8080/"
        },
        "id": "is2MRazKDCWb",
        "outputId": "301bccd6-ea2d-40a8-9670-6229f8181796"
      },
      "execution_count": null,
      "outputs": [
        {
          "output_type": "execute_result",
          "data": {
            "text/plain": [
              "{'one': 1, 'little': 3, 'two': 1, 'three': 1, 'indian': 2}"
            ]
          },
          "metadata": {},
          "execution_count": 47
        }
      ]
    },
    {
      "cell_type": "code",
      "source": [
        "words_count2 = {x: words.count(x) for x in words}\n",
        "words_count2"
      ],
      "metadata": {
        "colab": {
          "base_uri": "https://localhost:8080/"
        },
        "id": "1uXuNCbiD6Kb",
        "outputId": "2da84a76-d177-4f2a-d853-bbce1288d594"
      },
      "execution_count": null,
      "outputs": [
        {
          "output_type": "execute_result",
          "data": {
            "text/plain": [
              "{'one': 1, 'little': 3, 'two': 1, 'three': 1, 'indian': 2}"
            ]
          },
          "metadata": {},
          "execution_count": 48
        }
      ]
    },
    {
      "cell_type": "code",
      "source": [
        "#오쌤\n",
        "# word_count = {}\n",
        "# for w in words:\n",
        "#     word_count[w] = words.count(w)\n",
        "# print(word_count)\n",
        "\n",
        "words_count = {w: words.count(w) for w in words}\n",
        "words_count"
      ],
      "metadata": {
        "colab": {
          "base_uri": "https://localhost:8080/"
        },
        "id": "LzS4luMJEkiC",
        "outputId": "e1b627ba-6e29-4348-af5b-22d038668ac0"
      },
      "execution_count": null,
      "outputs": [
        {
          "output_type": "execute_result",
          "data": {
            "text/plain": [
              "{'one': 1, 'little': 3, 'two': 1, 'three': 1, 'indian': 2}"
            ]
          },
          "metadata": {},
          "execution_count": 54
        }
      ]
    },
    {
      "cell_type": "code",
      "source": [
        "word_count2 = {}\n",
        "# for w in words:\n",
        "#     if w in word_count2:    # = w in word_count2.keys():\n",
        "#         word_count2[w] += 1     # = word_count2[w] + 1\n",
        "#     else:\n",
        "#         word_count2[w] = 1\n",
        "#     print(word_count2)\n",
        "\n",
        "word_count2 = {w: word_count2[w] + 1 if w in word_count2 else 1 for w in words}\n",
        "word_count2"
      ],
      "metadata": {
        "colab": {
          "base_uri": "https://localhost:8080/"
        },
        "id": "5FzIz_RfHFVB",
        "outputId": "dd5d62db-7350-4ab3-d0bb-a4247083a606"
      },
      "execution_count": null,
      "outputs": [
        {
          "output_type": "execute_result",
          "data": {
            "text/plain": [
              "{'one': 1, 'little': 1, 'two': 1, 'three': 1, 'indian': 1}"
            ]
          },
          "metadata": {},
          "execution_count": 64
        }
      ]
    },
    {
      "cell_type": "markdown",
      "source": [
        "## defaultdict"
      ],
      "metadata": {
        "id": "GuUqLnj9PzoC"
      }
    },
    {
      "cell_type": "code",
      "source": [
        "from collections import defaultdict\n",
        "# collections 모듈에서 defaultdict 클래스 이름을 import\n",
        "\n",
        "word_count3 = defaultdict(int)\n",
        "for w in words:\n",
        "    word_count3[w] += 1\n",
        "    print(word_count3)\n"
      ],
      "metadata": {
        "colab": {
          "base_uri": "https://localhost:8080/"
        },
        "id": "97zrAWkuIyXj",
        "outputId": "3fb4a32d-9f84-4b91-a3b4-a65cfa5aca0d"
      },
      "execution_count": null,
      "outputs": [
        {
          "output_type": "stream",
          "name": "stdout",
          "text": [
            "defaultdict(<class 'int'>, {'one': 1})\n",
            "defaultdict(<class 'int'>, {'one': 1, 'little': 1})\n",
            "defaultdict(<class 'int'>, {'one': 1, 'little': 1, 'two': 1})\n",
            "defaultdict(<class 'int'>, {'one': 1, 'little': 2, 'two': 1})\n",
            "defaultdict(<class 'int'>, {'one': 1, 'little': 2, 'two': 1, 'three': 1})\n",
            "defaultdict(<class 'int'>, {'one': 1, 'little': 3, 'two': 1, 'three': 1})\n",
            "defaultdict(<class 'int'>, {'one': 1, 'little': 3, 'two': 1, 'three': 1, 'indian': 1})\n",
            "defaultdict(<class 'int'>, {'one': 1, 'little': 3, 'two': 1, 'three': 1, 'indian': 2})\n"
          ]
        }
      ]
    },
    {
      "cell_type": "code",
      "source": [],
      "metadata": {
        "id": "9C8A1OL9Q4sa"
      },
      "execution_count": null,
      "outputs": []
    }
  ]
}