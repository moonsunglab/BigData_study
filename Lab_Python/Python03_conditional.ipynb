{
  "nbformat": 4,
  "nbformat_minor": 0,
  "metadata": {
    "colab": {
      "provenance": [],
      "toc_visible": true,
      "authorship_tag": "ABX9TyNxFHOu/wJZbmhhl5pZXcBX",
      "include_colab_link": true
    },
    "kernelspec": {
      "name": "python3",
      "display_name": "Python 3"
    },
    "language_info": {
      "name": "python"
    }
  },
  "cells": [
    {
      "cell_type": "markdown",
      "metadata": {
        "id": "view-in-github",
        "colab_type": "text"
      },
      "source": [
        "<a href=\"https://colab.research.google.com/github/moonsunglab/BigData_study/blob/main/Lab_Python/Python03_conditional.ipynb\" target=\"_parent\"><img src=\"https://colab.research.google.com/assets/colab-badge.svg\" alt=\"Open In Colab\"/></a>"
      ]
    },
    {
      "cell_type": "markdown",
      "source": [
        "# 조건문 (Contiditional Statement)"
      ],
      "metadata": {
        "id": "Z2J9f-FjQN4F"
      }
    },
    {
      "cell_type": "markdown",
      "source": [
        "## Else 없는 조건문\n",
        "```\n",
        "if 조건식:\n",
        "  조건식을 만족할 때 실행할 코드 블록(문장들)\n",
        "\n",
        "```\n",
        "\n",
        "*   `if 조건식` 뒤에는 반드시 콜론(:)을 써야됨. 조건식 블록이 시작한다는 의미.\n",
        "*   if 블록은 반드시 들여쓰기(indentation)을 해야 됨.\n",
        "*   들여쓰기의 간격은 일정해야함."
      ],
      "metadata": {
        "id": "yMeGugSdQW6V"
      }
    },
    {
      "cell_type": "code",
      "source": [
        "age = int(input('나이를 입력하세요: '))\n",
        "if age >= 0 :\n",
        "    print(f'당신은 {age}살 이군요!')\n",
        "\n",
        "print('--- end ---')"
      ],
      "metadata": {
        "colab": {
          "base_uri": "https://localhost:8080/"
        },
        "id": "2LLfNGZwQCC-",
        "outputId": "67312fb4-26f5-42fe-ea9c-ac683cbd57a6"
      },
      "execution_count": null,
      "outputs": [
        {
          "output_type": "stream",
          "name": "stdout",
          "text": [
            "나이를 입력하세요: 14\n",
            "당신은 14살 이군요!\n",
            "--- end ---\n"
          ]
        }
      ]
    },
    {
      "cell_type": "code",
      "source": [
        "print()\n",
        "    print()\n",
        "print()\n",
        "# 같은 블록에서는 들여쓰기를 하면 안된다."
      ],
      "metadata": {
        "colab": {
          "base_uri": "https://localhost:8080/",
          "height": 110
        },
        "id": "Wn0iZbGVXUi1",
        "outputId": "3ae07bac-7694-457d-8b33-81fef20dff4e"
      },
      "execution_count": null,
      "outputs": [
        {
          "output_type": "error",
          "ename": "IndentationError",
          "evalue": "unexpected indent (<ipython-input-5-05b69ac05c5d>, line 2)",
          "traceback": [
            "\u001b[0;36m  File \u001b[0;32m\"<ipython-input-5-05b69ac05c5d>\"\u001b[0;36m, line \u001b[0;32m2\u001b[0m\n\u001b[0;31m    print()\u001b[0m\n\u001b[0m    ^\u001b[0m\n\u001b[0;31mIndentationError\u001b[0m\u001b[0;31m:\u001b[0m unexpected indent\n"
          ]
        }
      ]
    },
    {
      "cell_type": "markdown",
      "source": [
        "## else 있는 조건문\n",
        "```\n",
        "if조건식:\n",
        "    조건식을 만족할 때 실행할 코드 블록 (1)\n",
        "else :\n",
        "    조건식을 만족하지 못할 때 실행할 코드 블록 (2)\n",
        "```\n",
        "\n",
        "*   조건식을 만족할 때는 (1) 블록 실행.\n",
        "*   조건식을 만족하지 못할 때는 (2) 블록 실행.\n",
        "*   `if 조건식`과  `else`다음에는 반드시 ':'을 써야함.\n",
        "*   if블록과 else블록은 반드시 들여쓰기(indentation)을 해야함.\n",
        "*   들여쓰기 크기는 일정해야함.\n"
      ],
      "metadata": {
        "id": "GjGb0AxjXzMt"
      }
    },
    {
      "cell_type": "code",
      "source": [
        "age = int(input('나이입력= '))\n",
        "if age >= 0:\n",
        "    print(f'당신의 나이는 {age}이군요!')\n",
        "else:\n",
        "    print(f'잘못된 입력입니다. 나이를 다시 입력해 주세요.')\n",
        "print('--- end ---')"
      ],
      "metadata": {
        "colab": {
          "base_uri": "https://localhost:8080/"
        },
        "id": "DnBXvFAFXY-u",
        "outputId": "cc44f731-91ff-4bf3-9c72-4a90ad509e98"
      },
      "execution_count": null,
      "outputs": [
        {
          "output_type": "stream",
          "name": "stdout",
          "text": [
            "나이입력= 3\n",
            "당신의 나이는 3이군요!\n",
            "--- end ---\n"
          ]
        }
      ]
    },
    {
      "cell_type": "markdown",
      "source": [
        "연습) 정수를 입력받아서, 짝수/홀수 출력"
      ],
      "metadata": {
        "id": "DMXC85eFaJoM"
      }
    },
    {
      "cell_type": "code",
      "source": [
        "num = int(input('정수를 입력해 주세요: '))\n",
        "if num % 2 == 0:\n",
        "    print(f'{num}은 짝수입니다.')\n",
        "elif num % 2 == 1:\n",
        "    print(f'{num}은 홀수입니다.')\n",
        "else:\n",
        "    print('정수의 숫자를 입력해주세요.')\n",
        "print('--- end ---')"
      ],
      "metadata": {
        "colab": {
          "base_uri": "https://localhost:8080/"
        },
        "id": "9jlH9opIaN7s",
        "outputId": "7854d366-e537-4ab2-fc45-56f328f372dc"
      },
      "execution_count": null,
      "outputs": [
        {
          "output_type": "stream",
          "name": "stdout",
          "text": [
            "정수를 입력해 주세요: 12\n",
            "12은 짝수입니다.\n",
            "--- end ---\n"
          ]
        }
      ]
    },
    {
      "cell_type": "markdown",
      "source": [
        "Falsy value: 파이썬에서 False로 취급하는 값.\n",
        "\n",
        "*   숫자(int, float) = 0\n",
        "*   문자열: 빈 문자열('')\n",
        "*   빈 리스트(list)\n",
        "*   None: 변수에 값을 할당하지 않을 때 사용하는 파이썬 키워드. (like null)"
      ],
      "metadata": {
        "id": "iWM5IDQVcMss"
      }
    },
    {
      "cell_type": "code",
      "source": [
        "number = int(input('정수입력: '))\n",
        "if number % 2:  #숫자가 0이어서 false취급.\n",
        "    print(f'{number}은 홀수입니다.')\n",
        "else:\n",
        "    print(f'{number}은 짝수입니다.')"
      ],
      "metadata": {
        "colab": {
          "base_uri": "https://localhost:8080/"
        },
        "id": "BJF8_Ey_cEVN",
        "outputId": "1d04bb1f-7ffd-443f-da42-5c24a3be1e83"
      },
      "execution_count": null,
      "outputs": [
        {
          "output_type": "stream",
          "name": "stdout",
          "text": [
            "정수입력: 2\n",
            "2은 짝수입니다.\n"
          ]
        }
      ]
    },
    {
      "cell_type": "markdown",
      "source": [
        "## chained conditional (else if)\n",
        "```\n",
        "if 조건식1:\n",
        "    (조건식1)이 True인 경우 실행할 코드 블록\n",
        "elif 조건식2:\n",
        "    (조건식2)이 True인 경우 실행할 코드 블록\n",
        "...\n",
        "else:\n",
        "    위의 모든 조건식들이 False일 때 실행할 코드 블록\n",
        "```\n",
        "\n",
        "*   elif 블록은 1개 이상이 있을 수 있음.\n",
        "*   else 블록은 생략 가능.\n",
        "*   모든 블록 안에서 들여쓰기 크기는 같은 크기로.\n"
      ],
      "metadata": {
        "id": "HDQ48iHueF92"
      }
    },
    {
      "cell_type": "markdown",
      "source": [
        "문제1) 숫자를 입력 받아서, 양수/음수/0인지를 출력"
      ],
      "metadata": {
        "id": "hPFVSLGDfV5e"
      }
    },
    {
      "cell_type": "code",
      "source": [
        "num = int(input('정수를 입력하세요: '))\n",
        "if num > 0:\n",
        "    print(f'{num}은 양수입니다.')\n",
        "elif  num < 0 :\n",
        "    print(f'{num}은 음수입니다.')\n",
        "elif num == 0:\n",
        "    print(f'{num}은 0입니다.')\n",
        "else:\n",
        "    print('잘못된 입력입니다.')\n",
        "print('--- end ---')"
      ],
      "metadata": {
        "colab": {
          "base_uri": "https://localhost:8080/"
        },
        "id": "m7EOPZDNfbu3",
        "outputId": "18314f4a-6397-41db-ca48-d57ea72e43d4"
      },
      "execution_count": null,
      "outputs": [
        {
          "output_type": "stream",
          "name": "stdout",
          "text": [
            "정수를 입력하세요: 3\n",
            "3은 양수입니다.\n",
            "--- end ---\n"
          ]
        }
      ]
    },
    {
      "cell_type": "markdown",
      "source": [
        "문제2) 시험 점수를 3번 입력.\n",
        "        총점, 평균 계산.\n",
        "        평균이 90점 이상이면  'A', 80점 이상이면 'B', 70점 이상이면 'C', 그 이외에는 'F'를 출력"
      ],
      "metadata": {
        "id": "OTviqTKtfcTr"
      }
    },
    {
      "cell_type": "code",
      "source": [
        "score_1 = int(input('첫번째 수를 입력하세요: '))\n",
        "score_2 = int(input('두번째 수를 입력하세요: '))\n",
        "scroe_3 = int(input('세번째 수를 입력하세요: '))\n",
        "total_score = score_1 + score_2 + scroe_3\n",
        "avg_score = total_score / 3\n",
        "print (f'총점: {total_score}, 평균: {avg_score}')\n",
        "if avg_score >= 90:\n",
        "    print(f'총점의 평균({avg_score})은 A입니다.')\n",
        "elif avg_score >= 80:\n",
        "     print(f'총점의 평균({avg_score})은 B입니다.')\n",
        "elif avg_score >= 70:\n",
        "     print(f'총점의 평균({avg_score})은 C입니다.')\n",
        "else:\n",
        "    print(f'총점의 평균({avg_score})은 F입니다.')"
      ],
      "metadata": {
        "colab": {
          "base_uri": "https://localhost:8080/"
        },
        "id": "mZZeGC3yfz9s",
        "outputId": "e57c4615-83bf-4534-82cd-8725f0b2a84b"
      },
      "execution_count": null,
      "outputs": [
        {
          "output_type": "stream",
          "name": "stdout",
          "text": [
            "첫번째 수를 입력하세요: 100\n",
            "두번째 수를 입력하세요: 50\n",
            "세번째 수를 입력하세요: 60\n",
            "총점: 210, 평균: 70.0\n",
            "총점의 평균(70.0)은 C입니다.\n"
          ]
        }
      ]
    },
    {
      "cell_type": "markdown",
      "source": [
        "## 중첩 조건문\n",
        "\n",
        "*   if, elif, else 블록안에 또 다른 조건문을 사용하는 것.\n",
        "*   들여쓰기를 특히 주의!\n",
        "*   들여쓰기 방식에 따라서 전혀 다른 로직이 될 수도 있음.\n",
        "*   중첩 조건문을 논리 연산자(and, or)를 사용하는 조건문 또는 elif 블록으로 바꿀 수도 있음."
      ],
      "metadata": {
        "id": "P_gHoVLzpuCC"
      }
    },
    {
      "cell_type": "code",
      "source": [
        "num = float(input('숫자입력: '))\n",
        "if num >= 0 :\n",
        "    if num >0:\n",
        "        print('양수')\n",
        "    else:\n",
        "        print('0')\n",
        "else:\n",
        "    print('음수')"
      ],
      "metadata": {
        "colab": {
          "base_uri": "https://localhost:8080/"
        },
        "id": "uvosvjhuqfl4",
        "outputId": "7e313332-f2b5-4219-8c8d-caaf814080bf"
      },
      "execution_count": null,
      "outputs": [
        {
          "output_type": "stream",
          "name": "stdout",
          "text": [
            "숫자입력: 0\n",
            "0\n"
          ]
        }
      ]
    },
    {
      "cell_type": "markdown",
      "source": [
        "# 난수(random number)를 만드는 방법"
      ],
      "metadata": {
        "id": "6AS-nOlWtcej"
      }
    },
    {
      "cell_type": "code",
      "source": [
        "import random # 난수 생성 기능을 가지고 있는 random 모듈을 사용."
      ],
      "metadata": {
        "id": "sCr9t2Dptlue"
      },
      "execution_count": null,
      "outputs": []
    },
    {
      "cell_type": "code",
      "source": [
        "random.random()   # [0,1) 0이상 1미만의 범위의 난수를 리턴."
      ],
      "metadata": {
        "colab": {
          "base_uri": "https://localhost:8080/"
        },
        "id": "nlcFjz41tpv1",
        "outputId": "46aff9ca-9530-415f-868f-7a23f2f916e9"
      },
      "execution_count": null,
      "outputs": [
        {
          "output_type": "execute_result",
          "data": {
            "text/plain": [
              "0.2883383410491951"
            ]
          },
          "metadata": {},
          "execution_count": 29
        }
      ]
    },
    {
      "cell_type": "code",
      "source": [
        "random.randrange(0, 5) #[0,5) 범위의 난수를 리턴."
      ],
      "metadata": {
        "colab": {
          "base_uri": "https://localhost:8080/"
        },
        "id": "jlPuUIhuuI4l",
        "outputId": "e03e851e-a29b-4668-c039-9c847662590b"
      },
      "execution_count": null,
      "outputs": [
        {
          "output_type": "execute_result",
          "data": {
            "text/plain": [
              "2"
            ]
          },
          "metadata": {},
          "execution_count": 61
        }
      ]
    },
    {
      "cell_type": "code",
      "source": [
        "random.randrange(5) # 시작값을 지정하지 않은 경우, [0,5) 범위의 정수 난수를 리턴."
      ],
      "metadata": {
        "colab": {
          "base_uri": "https://localhost:8080/"
        },
        "id": "D6YWfq9ruvBr",
        "outputId": "38a5bfd7-461e-4111-ac85-eb8adf1e629d"
      },
      "execution_count": null,
      "outputs": [
        {
          "output_type": "execute_result",
          "data": {
            "text/plain": [
              "1"
            ]
          },
          "metadata": {},
          "execution_count": 108
        }
      ]
    },
    {
      "cell_type": "markdown",
      "source": [
        "\n",
        "연습문제\n",
        "가위, 바위, 보 게임의 승패를 출력\n",
        "\n",
        "가위 = 1, 바위 = 2, 보 = 3\n",
        "\n",
        "컴퓨터: 1이상 3이하(4 미만)의 정수 난수를 저장.\n",
        "\n",
        "사용자: 1이상 3이하의 정수를 입력받아서 저장.\n",
        "\n",
        "결과(조건문 사용) 출력 (예) 컴퓨터 승, 사용자 승.\n"
      ],
      "metadata": {
        "id": "uULRHicKxNYS"
      }
    },
    {
      "cell_type": "code",
      "source": [
        "p_turn = input('가위, 바위, 보, 중에 하나를 고르십시오: ')\n",
        "if p_turn == '가위':\n",
        "    p_turn = 1\n",
        "elif p_turn == '바위':\n",
        "    p_turn = 2\n",
        "elif p_turn =='보':\n",
        "    p_turn = 3\n",
        "else:\n",
        "    print('가위, 바위, 보 중에 하나를 내야합니다.')\n",
        "c_turn = random.randrange(1,4)\n",
        "\n",
        "if p_turn == 1:\n",
        "    if c_turn ==1:\n",
        "        print('상대가 가위를 냈습니다. 비겼습니다.')\n",
        "    elif c_turn == 2:\n",
        "        print('상대가 바위를 냈습니다. 패배!')\n",
        "    else:\n",
        "        print('상대가 보를 냈습니다. 승리!')\n",
        "elif p_turn ==2:\n",
        "    if c_turn ==1:\n",
        "        print('상대가 가위를 냈습니다. 승리!')\n",
        "    elif c_turn == 2:\n",
        "        print('상대가 바위를 냈습니다. 비겼습니다.')\n",
        "    else:\n",
        "        print('상대가 보를 냈습니다. 패배!')\n",
        "\n",
        "else:\n",
        "    if c_turn ==1:\n",
        "        print('상대가 가위를 냈습니다. 패배!')\n",
        "    elif c_turn == 2:\n",
        "        print('상대가 바위를 냈습니다. 승리!')\n",
        "    else:\n",
        "        print('상대가 보를 냈습니다. 비겼습니다')\n",
        "\n",
        "print('--- 게임종료 ---')"
      ],
      "metadata": {
        "colab": {
          "base_uri": "https://localhost:8080/"
        },
        "id": "fHyt3ukkxYUO",
        "outputId": "de0bf48c-6554-499b-c350-541e23befaab"
      },
      "execution_count": null,
      "outputs": [
        {
          "output_type": "stream",
          "name": "stdout",
          "text": [
            "가위, 바위, 보, 중에 하나를 고르십시오: 보\n",
            "상대가 바위를 냈습니다. 승리!\n",
            "--- 게임종료 ---\n"
          ]
        }
      ]
    },
    {
      "cell_type": "code",
      "source": [
        "# 오쌤의 방법\n",
        "\n",
        "print('=== 가위/바위/보 ===')\n",
        "print('[1] 가위')\n",
        "print('[2] 바위')\n",
        "print('[3] 보')\n",
        "print('====================')\n",
        "user = int(input('선택: '))\n",
        "\n",
        "computer = random.randrange(1,4)\n",
        "print(f'user =  {user} [VS] computer = {computer}')\n",
        "\n",
        "if user == 1:           #user 가위\n",
        "    if computer == 1:\n",
        "        print('draw')\n",
        "    elif computer == 2:\n",
        "        print('loose')\n",
        "    else:\n",
        "        print('win')\n",
        "elif user == 2:         #user 바위\n",
        "    if computer == 1:\n",
        "        print('win')\n",
        "    elif computer == 2:\n",
        "        print('draw')\n",
        "    else:\n",
        "        print('loose')\n",
        "else:                   #user 보\n",
        "    if computer == 1:\n",
        "        print('loose')\n",
        "    elif computer == 2:\n",
        "        print('win')\n",
        "    else:\n",
        "        print('draw')"
      ],
      "metadata": {
        "id": "--7VkbMFxM5S",
        "colab": {
          "base_uri": "https://localhost:8080/"
        },
        "outputId": "1c960064-4fde-4085-8889-658c27ad029c"
      },
      "execution_count": null,
      "outputs": [
        {
          "output_type": "stream",
          "name": "stdout",
          "text": [
            "=== 가위/바위/보 ===\n",
            "[1] 가위\n",
            "[2] 바위\n",
            "[3] 보\n",
            "====================\n",
            "선택: 2\n",
            "user =  2 [VS] computer = 1\n",
            "win\n"
          ]
        }
      ]
    },
    {
      "cell_type": "code",
      "source": [
        "# 오쌤의 방법2\n",
        "\n",
        "print('=== 가위/바위/보 ===')\n",
        "print('[1] 가위')\n",
        "print('[2] 바위')\n",
        "print('[3] 보')\n",
        "print('====================')\n",
        "user = int(input('선택: '))\n",
        "\n",
        "computer = random.randrange(1,4)\n",
        "print(f'user =  {user} [VS] computer = {computer}')\n",
        "\n",
        "if user == computer:\n",
        "    print('비김')\n",
        "elif user == 1:\n",
        "    if computer == 2:\n",
        "        print('컴퓨터승')\n",
        "    else:\n",
        "        print('유저승')\n",
        "elif user == 2:\n",
        "    if computer == 1:\n",
        "        print('유저승')\n",
        "    else:\n",
        "        print('컴퓨터승')\n",
        "else:\n",
        "    if computer == 1:\n",
        "        print('컴퓨터승')\n",
        "    else:\n",
        "        print('유저승')\n"
      ],
      "metadata": {
        "id": "wpIhnYmrxAhD"
      },
      "execution_count": null,
      "outputs": []
    },
    {
      "cell_type": "code",
      "source": [
        "# 오쌤의 방법3 제일 코딩이 짧고 좋네.\n",
        "\n",
        "print('=== 가위/바위/보 ===')\n",
        "print('[1] 가위')\n",
        "print('[2] 바위')\n",
        "print('[3] 보')\n",
        "print('====================')\n",
        "user = int(input('선택: '))\n",
        "\n",
        "computer = random.randrange(1,4)\n",
        "print(f'user =  {user} [VS] computer = {computer}')\n",
        "\n",
        "\n",
        "# user가 이기는 경우들\n",
        "user_win = (user == 1 and computer == 3) or (user == 2 and computer ==1) or (user == 3 and computer == 2)\n",
        "\n",
        "if user == computer:\n",
        "    print('Tie')\n",
        "elif user_win:\n",
        "    print('User WIn')\n",
        "else:\n",
        "    print('Computer win')"
      ],
      "metadata": {
        "colab": {
          "base_uri": "https://localhost:8080/"
        },
        "id": "HJkt3W7jhGgJ",
        "outputId": "c374e7fb-d0a3-4b63-db07-0122413c6876"
      },
      "execution_count": null,
      "outputs": [
        {
          "output_type": "stream",
          "name": "stdout",
          "text": [
            "=== 가위/바위/보 ===\n",
            "[1] 가위\n",
            "[2] 바위\n",
            "[3] 보\n",
            "====================\n",
            "선택: 3\n",
            "user =  3 [VS] computer = 1\n",
            "computer win\n"
          ]
        }
      ]
    },
    {
      "cell_type": "markdown",
      "source": [
        "# match 문\n",
        "\n",
        "```\n",
        "match 변수(또는 식):\n",
        "    case 값1:\n",
        "        변수(또는 식)의 값이 (값1)과 같은 경우 실행할 코드 블록\n",
        "    case 값2:\n",
        "        변수(또는 식)의 값이 (값2)과 같은 경우 실행할 코드 블록\n",
        "    ...\n",
        "```"
      ],
      "metadata": {
        "id": "S7eaMr1gnhXp"
      }
    },
    {
      "cell_type": "code",
      "source": [
        "user = int(input('1~3까지 선택: '))\n",
        "match user:\n",
        "    case 1:\n",
        "        print('가위')\n",
        "    case 2:\n",
        "        print('바위')\n",
        "    case 3:\n",
        "        print('보')"
      ],
      "metadata": {
        "colab": {
          "base_uri": "https://localhost:8080/"
        },
        "id": "Ekbp98P_oHcp",
        "outputId": "8af728ac-356c-4841-903b-fa5aa2f7aaf1"
      },
      "execution_count": null,
      "outputs": [
        {
          "output_type": "stream",
          "name": "stdout",
          "text": [
            "1~3까지 선택: 2\n",
            "바위\n"
          ]
        }
      ]
    },
    {
      "cell_type": "code",
      "source": [
        "# 0(일요일), 1(월요일), ... , 6(토요일)\n",
        "day = int(input('choose num 0~6: '))\n",
        "match day:\n",
        "    case 1 | 2 | 3 | 4 | 5 :\n",
        "        print('출근하십쇼')\n",
        "    case 0 | 6 :\n",
        "        print('쉬십쇼')"
      ],
      "metadata": {
        "colab": {
          "base_uri": "https://localhost:8080/"
        },
        "id": "yU4zhMc0pK4x",
        "outputId": "27ba0abc-253e-4333-f58a-4e897066ce12"
      },
      "execution_count": null,
      "outputs": [
        {
          "output_type": "stream",
          "name": "stdout",
          "text": [
            "choose num 0~6: 0\n",
            "쉬십쇼\n"
          ]
        }
      ]
    }
  ]
}