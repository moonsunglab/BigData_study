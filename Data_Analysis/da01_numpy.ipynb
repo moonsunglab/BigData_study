{
  "nbformat": 4,
  "nbformat_minor": 0,
  "metadata": {
    "colab": {
      "provenance": [],
      "authorship_tag": "ABX9TyNgWg0VnQqFkoVN3K4DHp8X",
      "include_colab_link": true
    },
    "kernelspec": {
      "name": "python3",
      "display_name": "Python 3"
    },
    "language_info": {
      "name": "python"
    }
  },
  "cells": [
    {
      "cell_type": "markdown",
      "metadata": {
        "id": "view-in-github",
        "colab_type": "text"
      },
      "source": [
        "<a href=\"https://colab.research.google.com/github/moonsunglab/BigData_study/blob/main/Data_Analysis/da01_numpy.ipynb\" target=\"_parent\"><img src=\"https://colab.research.google.com/assets/colab-badge.svg\" alt=\"Open In Colab\"/></a>"
      ]
    },
    {
      "cell_type": "markdown",
      "source": [
        "# 데이터 분석 패키지\n",
        "\n",
        "*   NumPy: 다차원 배열을 쉽게 사용할 수 있는 패키지. 머신 러닝에서 중요하게 사용됨.\n",
        "*   pandas: 데이터프레임(DataFrame)과 시리즈(Series)를 기본으로 사용해서 데이터 분석에 필요한 기능들을 가지고 있는 패키지.\n",
        "*   matplotlib, seaborn: 데이터 시각화 패키지. 그래프.\n",
        "*   scikit-learn: 머신 러닝에서 가용하는 패키지.\n",
        "*   keras: 딥러닝에서 사용하는 패키지."
      ],
      "metadata": {
        "id": "TpX0L2fBpDp7"
      }
    },
    {
      "cell_type": "code",
      "execution_count": null,
      "metadata": {
        "id": "4hUqYRoQo5wf"
      },
      "outputs": [],
      "source": [
        "import numpy as np\n",
        "import pandas as pd\n",
        "import matplotlib\n",
        "import seaborn\n",
        "import sklearn  # scikit-learn\n",
        "import keras"
      ]
    },
    {
      "cell_type": "code",
      "source": [
        "print('numpy version=', np.__version__)\n",
        "print('pandas version=', pd.__version__)\n",
        "print('matplotlib version', matplotlib.__version__)\n",
        "print('seaborn version=', seaborn.__version__)\n",
        "print('scikit-learn=', sklearn.__version__)\n",
        "print('keras version=', keras.__version__)"
      ],
      "metadata": {
        "colab": {
          "base_uri": "https://localhost:8080/"
        },
        "id": "LedJ9jbvrIUl",
        "outputId": "7b481b1a-de13-4c65-f33e-034907e6a339"
      },
      "execution_count": null,
      "outputs": [
        {
          "output_type": "stream",
          "name": "stdout",
          "text": [
            "numpy version= 2.0.2\n",
            "pandas version= 2.2.2\n",
            "matplotlib version 3.10.0\n",
            "seaborn version= 0.13.2\n",
            "scikit-learn= 1.6.1\n",
            "keras version= 3.8.0\n"
          ]
        }
      ]
    },
    {
      "cell_type": "markdown",
      "source": [
        "# Python List\n",
        "\n",
        "*   여러개의 값들을 저장할 수 있는 데이터 타입\n",
        "*   인덱스를 기반으로 값들을 저장하는 데이터 타입\n",
        "    *   indexing: 인덱스를 사용해서 원하는 위치의 값을 참조   (예) `numbers[0]`\n",
        "    *   slicing: [start, end) 인덱스 범위의 부분 리스트를 만듦.  (예) `numbers[0:5]`\n",
        "*   산술 연산\n",
        "    *   `list + list`: 두 개의 리스트를 이어붙여서 하나의 리스트로 만듦. concatenate\n",
        "    *   `list * int, int * list` : 리스트의 원소들을 정수만큼 복사해서 추가. replicate.\n"
      ],
      "metadata": {
        "id": "KxztoW3LtpCa"
      }
    },
    {
      "cell_type": "code",
      "source": [
        "num_list1 = [1,2,3]\n",
        "num_list2 = [11,22,33]"
      ],
      "metadata": {
        "id": "a3rBOvf6r9F8"
      },
      "execution_count": null,
      "outputs": []
    },
    {
      "cell_type": "code",
      "source": [
        "# indexing\n",
        "print(num_list1[0])\n",
        "print(num_list2[-1])"
      ],
      "metadata": {
        "colab": {
          "base_uri": "https://localhost:8080/"
        },
        "id": "rfArCWervoLU",
        "outputId": "0ac389a4-3a45-40ac-96ed-cee63227a46c"
      },
      "execution_count": null,
      "outputs": [
        {
          "output_type": "stream",
          "name": "stdout",
          "text": [
            "1\n",
            "33\n"
          ]
        }
      ]
    },
    {
      "cell_type": "code",
      "source": [
        "# slicing\n",
        "print(num_list1[:2])\n",
        "print(num_list2[-2:])\n"
      ],
      "metadata": {
        "colab": {
          "base_uri": "https://localhost:8080/"
        },
        "id": "Kiuse7pfvxM5",
        "outputId": "a8a3d036-4b06-4e24-c391-2cd839dc04c9"
      },
      "execution_count": null,
      "outputs": [
        {
          "output_type": "stream",
          "name": "stdout",
          "text": [
            "[1, 2]\n",
            "[22, 33]\n"
          ]
        }
      ]
    },
    {
      "cell_type": "code",
      "source": [
        "num_list1 + num_list2"
      ],
      "metadata": {
        "colab": {
          "base_uri": "https://localhost:8080/"
        },
        "id": "t37rWo3mv9wE",
        "outputId": "f05d364c-7784-43a9-caaf-fa08b90708fe"
      },
      "execution_count": null,
      "outputs": [
        {
          "output_type": "execute_result",
          "data": {
            "text/plain": [
              "[1, 2, 3, 11, 22, 33]"
            ]
          },
          "metadata": {},
          "execution_count": 7
        }
      ]
    },
    {
      "cell_type": "code",
      "source": [
        "num_list1 * 3"
      ],
      "metadata": {
        "colab": {
          "base_uri": "https://localhost:8080/"
        },
        "id": "bsWgQEmmwGtr",
        "outputId": "0216ce39-f19c-4aaf-9875-75ccef6d0066"
      },
      "execution_count": null,
      "outputs": [
        {
          "output_type": "execute_result",
          "data": {
            "text/plain": [
              "[1, 2, 3, 1, 2, 3, 1, 2, 3]"
            ]
          },
          "metadata": {},
          "execution_count": 8
        }
      ]
    },
    {
      "cell_type": "code",
      "source": [
        "# num_list1과 num_list2에서 같은 인덱스의 원소들끼리 덧셈\n",
        "[x + y for x,y in zip(num_list1, num_list2)]"
      ],
      "metadata": {
        "colab": {
          "base_uri": "https://localhost:8080/"
        },
        "id": "mBFNiliBwOfz",
        "outputId": "63e51bf5-5f69-4035-875a-f401bbc3d0cd"
      },
      "execution_count": null,
      "outputs": [
        {
          "output_type": "execute_result",
          "data": {
            "text/plain": [
              "[12, 24, 36]"
            ]
          },
          "metadata": {},
          "execution_count": 9
        }
      ]
    },
    {
      "cell_type": "code",
      "source": [
        "# num_list1의 모든 원소에 3을 곱하기\n",
        "[3 * x for x in num_list1]"
      ],
      "metadata": {
        "colab": {
          "base_uri": "https://localhost:8080/"
        },
        "id": "7enTDvs2xHLM",
        "outputId": "4a2d1262-d33a-4432-b4e0-9fb163ae1fb7"
      },
      "execution_count": null,
      "outputs": [
        {
          "output_type": "execute_result",
          "data": {
            "text/plain": [
              "[3, 6, 9]"
            ]
          },
          "metadata": {},
          "execution_count": 10
        }
      ]
    },
    {
      "cell_type": "markdown",
      "source": [
        "NumPy(Numerical Python)\n",
        "\n",
        "*   다차원 배열(n-dimensional array)을 쉽고 빠르게 연산(`+,-,*,/,..._`)하기 위한 라이브러리.\n",
        "*   numpy 패키지의 대부분의 기능(연산자, 함수, 메서드)들은 반복문의 기능을 가지고 있음.\n",
        "    *   같은 인덱스의 원소들끼리(element-wise) 연산하는 기능을 가지고 있음.\n",
        "*   `numpy.ndarray` 클래스: numpy 패키지의 가장 기본이 되는 클래스.\n"
      ],
      "metadata": {
        "id": "DLFiaiUB1hi6"
      }
    },
    {
      "cell_type": "code",
      "source": [
        "num_arr1 = np.array([1,2,3])        # 아규먼트로 전달된 리스트를 ndarray로 변환해서 리턴.\n",
        "print(type(num_arr1))\n",
        "print(num_arr1)     # __str__메서드가 리턴하는 문자열             # 2) numpy배열 리스트는 쉼표로 구분이아니라 공백으로 구문하네\n",
        "num_arr1            # __repr__메서드가 리턴하는 문자열"
      ],
      "metadata": {
        "colab": {
          "base_uri": "https://localhost:8080/"
        },
        "id": "TvAYMZ0sxqNM",
        "outputId": "cded0913-3ef8-4c52-8602-9fc766188092"
      },
      "execution_count": null,
      "outputs": [
        {
          "output_type": "stream",
          "name": "stdout",
          "text": [
            "<class 'numpy.ndarray'>\n",
            "[1 2 3]\n"
          ]
        },
        {
          "output_type": "execute_result",
          "data": {
            "text/plain": [
              "array([1, 2, 3])"
            ]
          },
          "metadata": {},
          "execution_count": 11
        }
      ]
    },
    {
      "cell_type": "code",
      "source": [
        "num_arr2 = np.array([11,22,33])\n",
        "print(num_arr2)"
      ],
      "metadata": {
        "colab": {
          "base_uri": "https://localhost:8080/"
        },
        "id": "kn5mPGZO3UW6",
        "outputId": "360bab80-cd25-4a77-eb52-d76b80bf2733"
      },
      "execution_count": null,
      "outputs": [
        {
          "output_type": "stream",
          "name": "stdout",
          "text": [
            "[11 22 33]\n"
          ]
        }
      ]
    },
    {
      "cell_type": "code",
      "source": [
        "# element-wise 연산\n",
        "print(num_arr1 + num_arr2)\n",
        "print(num_arr1 - num_arr2)\n",
        "print(num_arr1 * num_arr2)\n",
        "print(num_arr1 * 3)\n",
        "print(num_arr1 / num_arr2)"
      ],
      "metadata": {
        "colab": {
          "base_uri": "https://localhost:8080/"
        },
        "id": "Wdh807JJ4awF",
        "outputId": "fff2df80-5e09-4ae6-e845-e640e83eef04"
      },
      "execution_count": null,
      "outputs": [
        {
          "output_type": "stream",
          "name": "stdout",
          "text": [
            "[12 24 36]\n",
            "[-10 -20 -30]\n",
            "[11 44 99]\n",
            "[3 6 9]\n",
            "[0.09090909 0.09090909 0.09090909]\n"
          ]
        }
      ]
    },
    {
      "cell_type": "markdown",
      "source": [
        "## `np.ndarray` 클래스의 속성들"
      ],
      "metadata": {
        "id": "3vQtS4QJ5KxE"
      }
    },
    {
      "cell_type": "code",
      "source": [
        "print(num_arr1)\n",
        "print('ndim= ', num_arr1.ndim)      # 차원(dimension)\n",
        "print('size= ', num_arr1.size)      # 배열의 크기 (모든 원소 개수)\n",
        "print('shape= ', num_arr1.shape)    # 배열의 모양 (배열의 각 차원에서의 원소 개수들로 이루어진 튜플)\n",
        "print('dtype= ', num_arr1.dtype)    # 데이터 타입 (배열 원소의 데이터 타입)"
      ],
      "metadata": {
        "colab": {
          "base_uri": "https://localhost:8080/"
        },
        "id": "PYkDJBsx5RID",
        "outputId": "21c4f42c-e76d-43c3-987a-d704e1d4678c"
      },
      "execution_count": null,
      "outputs": [
        {
          "output_type": "stream",
          "name": "stdout",
          "text": [
            "[1 2 3]\n",
            "ndim=  1\n",
            "size=  3\n",
            "shape=  (3,)\n",
            "dtype=  int64\n"
          ]
        }
      ]
    },
    {
      "cell_type": "markdown",
      "source": [
        "*   Python의 숫자 타입\n",
        "    *   정수: `int`\n",
        "    *   실수: `float`\n",
        "*   NumPy의 숫자 타입\n",
        "    *   정수: `int8, int16, int32, int64...`\n",
        "    *   실수: `float16, float32, float64, ...`"
      ],
      "metadata": {
        "id": "5rM3nmvR6v77"
      }
    },
    {
      "cell_type": "code",
      "source": [
        "# 2차원 배열\n",
        "array = np.array([[1,2,3],\n",
        "                  [4,5,6]])\n",
        "print(type(array))\n",
        "print(array)\n"
      ],
      "metadata": {
        "colab": {
          "base_uri": "https://localhost:8080/"
        },
        "id": "AqPxUBRi7s6K",
        "outputId": "dcb22d7f-2b5d-4b7b-ffc6-37552a20e8e6"
      },
      "execution_count": null,
      "outputs": [
        {
          "output_type": "stream",
          "name": "stdout",
          "text": [
            "<class 'numpy.ndarray'>\n",
            "[[1 2 3]\n",
            " [4 5 6]]\n"
          ]
        }
      ]
    },
    {
      "cell_type": "code",
      "source": [
        "print('ndim= ', array.ndim)     # 차원 (dimension)\n",
        "print('size= ', array.size)     # 크기 (shape 튜플의 모든 숫자들을 곱한 값)\n",
        "print('shape= ', array.shape)   # 모양\n",
        "print('dtype= ', array.dtype)   # 데이터 타입\n"
      ],
      "metadata": {
        "colab": {
          "base_uri": "https://localhost:8080/"
        },
        "id": "4_8MCiIb8LvL",
        "outputId": "6bdcd709-3ddd-4efa-f9cb-7589c771f603"
      },
      "execution_count": null,
      "outputs": [
        {
          "output_type": "stream",
          "name": "stdout",
          "text": [
            "ndim=  2\n",
            "size=  6\n",
            "shape=  (2, 3)\n",
            "dtype=  int64\n"
          ]
        }
      ]
    },
    {
      "cell_type": "markdown",
      "source": [
        "# np.ndarray 객체 생성 함수들"
      ],
      "metadata": {
        "id": "t7HREDZS9pHp"
      }
    },
    {
      "cell_type": "markdown",
      "source": [
        "## `np.array(object)`\n",
        "\n",
        "*   object를 ndarray 로 변환해서 리턴.\n",
        "*   object: 배열과 비슷한 객체들. `list, tuple, ndarray, ...`"
      ],
      "metadata": {
        "id": "QFzuh6gX929y"
      }
    },
    {
      "cell_type": "code",
      "source": [
        "# 0 이상 10 미만의 정수들로 이루어진 배열\n",
        "numbers = np.array([x for x in range(10)])      # range(0,10,1)\n",
        "print(numbers)"
      ],
      "metadata": {
        "colab": {
          "base_uri": "https://localhost:8080/"
        },
        "id": "_v8WHtnO9ypM",
        "outputId": "43d6023a-0bf7-47c8-f66a-699f147aa3a9"
      },
      "execution_count": null,
      "outputs": [
        {
          "output_type": "stream",
          "name": "stdout",
          "text": [
            "[0 1 2 3 4 5 6 7 8 9]\n"
          ]
        }
      ]
    },
    {
      "cell_type": "markdown",
      "source": [
        "## `np.arange(start, end, step)`\n",
        "\n",
        "*   range를 사용해서 array를 생성하는 함수\n",
        "*   `range(start, end, step)`와 사용 방법이 동일.\n",
        "*   1차원 ndarray를 생성"
      ],
      "metadata": {
        "id": "x-d3-Ce9-sgK"
      }
    },
    {
      "cell_type": "code",
      "source": [
        "numbers = np.arange(10)\n",
        "print(numbers)"
      ],
      "metadata": {
        "colab": {
          "base_uri": "https://localhost:8080/"
        },
        "id": "7NMzsk_p-lPq",
        "outputId": "238d2118-367b-456d-b162-3ea394716902"
      },
      "execution_count": null,
      "outputs": [
        {
          "output_type": "stream",
          "name": "stdout",
          "text": [
            "[0 1 2 3 4 5 6 7 8 9]\n"
          ]
        }
      ]
    },
    {
      "cell_type": "code",
      "source": [
        "# 0 이상 10 이하의 짝수들을 원소로 갖는 배열(ndarray)\n",
        "evens = np.arange(0, 11, 2)\n",
        "print(evens)"
      ],
      "metadata": {
        "colab": {
          "base_uri": "https://localhost:8080/"
        },
        "id": "CDYSj10a_Ydh",
        "outputId": "656c2c1d-9aa1-4ab0-ba2a-59eef975132c"
      },
      "execution_count": null,
      "outputs": [
        {
          "output_type": "stream",
          "name": "stdout",
          "text": [
            "[ 0  2  4  6  8 10]\n"
          ]
        }
      ]
    },
    {
      "cell_type": "markdown",
      "source": [
        "## reshape\n",
        "\n",
        "*   `np.ndarray.reshape(new)` 메서드\n",
        "*   `np.reshape(array, newshape)` 함수"
      ],
      "metadata": {
        "id": "wDLxCResD3Sh"
      }
    },
    {
      "cell_type": "code",
      "source": [
        "array = np.arange(12)\n",
        "print(array)\n"
      ],
      "metadata": {
        "colab": {
          "base_uri": "https://localhost:8080/"
        },
        "id": "HmFTiz-kDsFa",
        "outputId": "7b1e8de8-d870-4650-e8e1-3d9d9ac43cd5"
      },
      "execution_count": null,
      "outputs": [
        {
          "output_type": "stream",
          "name": "stdout",
          "text": [
            "[ 0  1  2  3  4  5  6  7  8  9 10 11]\n"
          ]
        }
      ]
    },
    {
      "cell_type": "code",
      "source": [
        "array2 = array.reshape((3,4))           # 객체에서 메서드 호출\n",
        "print(array2)"
      ],
      "metadata": {
        "colab": {
          "base_uri": "https://localhost:8080/"
        },
        "id": "ESdOWoU8FClB",
        "outputId": "598c6cd2-0796-4669-a2d1-177507381ad5"
      },
      "execution_count": null,
      "outputs": [
        {
          "output_type": "stream",
          "name": "stdout",
          "text": [
            "[[ 0  1  2  3]\n",
            " [ 4  5  6  7]\n",
            " [ 8  9 10 11]]\n"
          ]
        }
      ]
    },
    {
      "cell_type": "code",
      "source": [
        "array3 = np.reshape(array, (4,3))       # 함수 호출\n",
        "array3"
      ],
      "metadata": {
        "colab": {
          "base_uri": "https://localhost:8080/"
        },
        "id": "MlRacJDgFwZK",
        "outputId": "72b9d675-8512-4029-ddd5-6c10837c23e8"
      },
      "execution_count": null,
      "outputs": [
        {
          "output_type": "execute_result",
          "data": {
            "text/plain": [
              "array([[ 0,  1,  2],\n",
              "       [ 3,  4,  5],\n",
              "       [ 6,  7,  8],\n",
              "       [ 9, 10, 11]])"
            ]
          },
          "metadata": {},
          "execution_count": 22
        }
      ]
    },
    {
      "cell_type": "code",
      "source": [
        "# 메서드 연쇄 호출(chain-call)\n",
        "array = np.arange(15).reshape((3,5))\n",
        "print(array)"
      ],
      "metadata": {
        "colab": {
          "base_uri": "https://localhost:8080/"
        },
        "id": "JWOcSyDZGAex",
        "outputId": "1c6c34fe-e528-41fe-eb89-7528094537a0"
      },
      "execution_count": null,
      "outputs": [
        {
          "output_type": "stream",
          "name": "stdout",
          "text": [
            "[[ 0  1  2  3  4]\n",
            " [ 5  6  7  8  9]\n",
            " [10 11 12 13 14]]\n"
          ]
        }
      ]
    },
    {
      "cell_type": "markdown",
      "source": [
        "## 난수 배열\n",
        "\n",
        "*   `np.random.rand(d0, d1, d2, ...)`\n",
        "    *   [0, 1)범위의 균등분포(uniform distribution)를 따르는 난수들을 갖는 배열을 생성.\n",
        "    *   아규먼트 d0,d1,...:ndarray의 각 차원의 원소 개수.\n",
        "*   `np.random.randn(d0, d1, d2 ,...)`\n",
        "    *   평균이 0이고 표준편차가 1인 표준정규분포(standard normal distribution)를 따르는 난수들을 갖는 배열을 생성.\n",
        "    *   아규먼트 d0, d1, ...: ndarray의 각 차원의 원소 개수.\n",
        "*   `np.random.randint(low = high, size, dtype)`\n",
        "    *   [low, high) 범위의 정수 난수들을 갖는 배열을 생성.\n",
        "    *   아규먼트 size: ndarray의 shape(모양)을 정수 또는 튜플로 전달.\n",
        "    *   아규먼트 dtype: int8, int16, int32, ..."
      ],
      "metadata": {
        "id": "RDcyJnerG7YB"
      }
    },
    {
      "cell_type": "code",
      "source": [
        "array = np.random.rand(5)\n",
        "print(array)"
      ],
      "metadata": {
        "colab": {
          "base_uri": "https://localhost:8080/"
        },
        "id": "PB63MBftI_ZV",
        "outputId": "93c0d9f2-f1e5-410a-b274-a104cabfe3d5"
      },
      "execution_count": null,
      "outputs": [
        {
          "output_type": "stream",
          "name": "stdout",
          "text": [
            "[0.75143689 0.89330547 0.24565001 0.73743091 0.75876749]\n"
          ]
        }
      ]
    },
    {
      "cell_type": "code",
      "source": [
        "array = np.random.rand(5,3)\n",
        "print(array)"
      ],
      "metadata": {
        "colab": {
          "base_uri": "https://localhost:8080/"
        },
        "id": "foD76dY2JdHB",
        "outputId": "fdb066c8-54b5-4a93-9588-23456135b34a"
      },
      "execution_count": null,
      "outputs": [
        {
          "output_type": "stream",
          "name": "stdout",
          "text": [
            "[[0.00627325 0.14495117 0.70442944]\n",
            " [0.85928746 0.20105013 0.86734079]\n",
            " [0.33712757 0.20620395 0.30779018]\n",
            " [0.64759507 0.08335824 0.08410016]\n",
            " [0.79944185 0.12664133 0.47142913]]\n"
          ]
        }
      ]
    },
    {
      "cell_type": "code",
      "source": [
        "array = np.random.randn(5)\n",
        "print(array)"
      ],
      "metadata": {
        "colab": {
          "base_uri": "https://localhost:8080/"
        },
        "id": "57fmKWLNJ0s5",
        "outputId": "7976d71a-b88e-436d-83ad-23831e3a58d9"
      },
      "execution_count": null,
      "outputs": [
        {
          "output_type": "stream",
          "name": "stdout",
          "text": [
            "[ 0.11623193  1.20911295 -1.40827294  1.08281202  1.20681397]\n"
          ]
        }
      ]
    },
    {
      "cell_type": "code",
      "source": [
        "array = np.random.randn(5,3)\n",
        "print(array)"
      ],
      "metadata": {
        "colab": {
          "base_uri": "https://localhost:8080/"
        },
        "id": "UWX_egxDKzuR",
        "outputId": "37ff2cbe-ba11-4086-9940-8bb7277ef404"
      },
      "execution_count": null,
      "outputs": [
        {
          "output_type": "stream",
          "name": "stdout",
          "text": [
            "[[-0.31618983  0.18860872  0.5251445 ]\n",
            " [ 1.94015936  0.88261565 -0.33921608]\n",
            " [-0.01240446 -0.41184731 -1.08232113]\n",
            " [ 0.49704934  0.3352706  -0.19485788]\n",
            " [ 0.17800822 -0.47807228 -0.92340172]]\n"
          ]
        }
      ]
    },
    {
      "cell_type": "code",
      "source": [
        "array = np.random.randint(0,10, size= 5)\n",
        "print(array)"
      ],
      "metadata": {
        "colab": {
          "base_uri": "https://localhost:8080/"
        },
        "id": "RvcTyEdsLI1J",
        "outputId": "cb48f1d4-277c-4464-bcbc-0b2489e2c275"
      },
      "execution_count": null,
      "outputs": [
        {
          "output_type": "stream",
          "name": "stdout",
          "text": [
            "[5 5 8 0 7]\n"
          ]
        }
      ]
    },
    {
      "cell_type": "code",
      "source": [
        "array = np.random.randint(0,10, size= (5,3))\n",
        "[print(array)]"
      ],
      "metadata": {
        "colab": {
          "base_uri": "https://localhost:8080/"
        },
        "id": "IA17jy7BLs_a",
        "outputId": "b6fc7499-665e-410b-acab-d87e0703f63f"
      },
      "execution_count": null,
      "outputs": [
        {
          "output_type": "stream",
          "name": "stdout",
          "text": [
            "[[2 4 1]\n",
            " [2 0 3]\n",
            " [6 0 0]\n",
            " [3 1 0]\n",
            " [8 0 3]]\n"
          ]
        },
        {
          "output_type": "execute_result",
          "data": {
            "text/plain": [
              "[None]"
            ]
          },
          "metadata": {},
          "execution_count": 29
        }
      ]
    },
    {
      "cell_type": "code",
      "source": [
        "array = np.random.randint(10)  #> size= None기본값 일때는 난수 1개를 리턴\n",
        "print(array)"
      ],
      "metadata": {
        "id": "8f_ySNelNDUh",
        "outputId": "410c92a6-74be-458d-ff4f-93e602228ccf",
        "colab": {
          "base_uri": "https://localhost:8080/"
        }
      },
      "execution_count": null,
      "outputs": [
        {
          "output_type": "stream",
          "name": "stdout",
          "text": [
            "2\n"
          ]
        }
      ]
    },
    {
      "cell_type": "markdown",
      "source": [
        "# 통계 함수/메서드\n",
        "\n",
        "*   함수: `np.function_name(ndarray)`\n",
        "*   메서드: `np.ndarray.method_name()`"
      ],
      "metadata": {
        "id": "WjyTkd7ydl4X"
      }
    },
    {
      "cell_type": "code",
      "source": [
        "array = np.random.randint(100, size = 10)\n",
        "print(array)\n"
      ],
      "metadata": {
        "colab": {
          "base_uri": "https://localhost:8080/"
        },
        "id": "_oJ18OFrevUo",
        "outputId": "283f2b58-197c-4687-d542-c8770cf8a01b"
      },
      "execution_count": null,
      "outputs": [
        {
          "output_type": "stream",
          "name": "stdout",
          "text": [
            "[78 93 59  5 91 62 43 78 96  8]\n"
          ]
        }
      ]
    },
    {
      "cell_type": "code",
      "source": [
        "print('평균: ', np.mean(array), array.mean())\n",
        "print('평균: ', np.var(array), array.var())\n",
        "print('표준편차: ', np.std(array), array.std())\n",
        "print('최댓값: ', np.max(array), array.max())\n",
        "print('최솟값: ', np.min(array), array.min())\n",
        "print('중앙값: ', np.median(array))"
      ],
      "metadata": {
        "colab": {
          "base_uri": "https://localhost:8080/"
        },
        "id": "i6-x43bxgYvf",
        "outputId": "2624daf0-f405-4a28-abc9-f6aa29da1fea"
      },
      "execution_count": null,
      "outputs": [
        {
          "output_type": "stream",
          "name": "stdout",
          "text": [
            "평균:  61.3 61.3\n",
            "평균:  1000.01 1000.01\n",
            "표준편차:  31.622934715171517 31.622934715171517\n",
            "최댓값:  96 96\n",
            "최솟값:  5 5\n",
            "중앙값:  70.0\n"
          ]
        }
      ]
    },
    {
      "cell_type": "code",
      "source": [
        "np.sort(array)          # 함수 호출 - 원본 배열은 변경하지 않고, 정렬된 \"새로운\" 배열을 리턴"
      ],
      "metadata": {
        "colab": {
          "base_uri": "https://localhost:8080/"
        },
        "id": "HVDM3BfAgulf",
        "outputId": "c5a72982-2398-4545-a063-cba0be91bf93"
      },
      "execution_count": null,
      "outputs": [
        {
          "output_type": "execute_result",
          "data": {
            "text/plain": [
              "array([ 5,  8, 43, 59, 62, 78, 78, 91, 93, 96])"
            ]
          },
          "metadata": {},
          "execution_count": 33
        }
      ]
    },
    {
      "cell_type": "code",
      "source": [
        "array.sort()            # 메서드 호출 - 원본 배열을 정렬하고 리턴은 없음. 원본 배열이 변경됨.\n",
        "print(array)"
      ],
      "metadata": {
        "colab": {
          "base_uri": "https://localhost:8080/"
        },
        "id": "Ac0mkaEAhO3X",
        "outputId": "5ea1bebb-e83b-4503-eee8-59dfb74b271e"
      },
      "execution_count": null,
      "outputs": [
        {
          "output_type": "stream",
          "name": "stdout",
          "text": [
            "[ 5  8 43 59 62 78 78 91 93 96]\n"
          ]
        }
      ]
    },
    {
      "cell_type": "code",
      "source": [
        "array = np.random.randint(100,size=10)\n",
        "print(array)\n",
        "print(np.argmax(array), array.argmax())     # 배열에서 최댓값의 인덱스를 리턴\n",
        "print(np.argmin(array), array.argmin())     # 배열에서 최솟값의 인덱스를 리턴"
      ],
      "metadata": {
        "colab": {
          "base_uri": "https://localhost:8080/"
        },
        "id": "rBOIIBzDjlL_",
        "outputId": "43b98708-5a4e-4097-bb6c-516b6b45d17c"
      },
      "execution_count": null,
      "outputs": [
        {
          "output_type": "stream",
          "name": "stdout",
          "text": [
            "[54  1 68 64 77 48 24 27 33 90]\n",
            "9 9\n",
            "1 1\n"
          ]
        }
      ]
    },
    {
      "cell_type": "markdown",
      "source": [
        "## 2차원 배열에서 통계 함수/메서드\n"
      ],
      "metadata": {
        "id": "dWNcpC7jkwV_"
      }
    },
    {
      "cell_type": "code",
      "source": [
        "np.random.seed(42)          #  실행할 때마다 항상 같은 난수들을 만들어 내기 위해서\n",
        "array = np.random.randint(10, size=(5,4))\n",
        "print(array)"
      ],
      "metadata": {
        "colab": {
          "base_uri": "https://localhost:8080/"
        },
        "id": "J5wzNUIAk0jW",
        "outputId": "7ca19095-c571-4347-d8c8-e80a4c6d7a2c"
      },
      "execution_count": null,
      "outputs": [
        {
          "output_type": "stream",
          "name": "stdout",
          "text": [
            "[[6 3 7 4]\n",
            " [6 9 2 6]\n",
            " [7 4 3 7]\n",
            " [7 2 5 4]\n",
            " [1 7 5 1]]\n"
          ]
        }
      ]
    },
    {
      "cell_type": "code",
      "source": [
        "np.sum(array)          # 2차원 배열의 모든 원소들의 합계"
      ],
      "metadata": {
        "colab": {
          "base_uri": "https://localhost:8080/"
        },
        "id": "sD6fK7hYlT3O",
        "outputId": "4021507a-6cfe-4a51-93a6-88de13f2cedc"
      },
      "execution_count": null,
      "outputs": [
        {
          "output_type": "execute_result",
          "data": {
            "text/plain": [
              "np.int64(96)"
            ]
          },
          "metadata": {},
          "execution_count": 37
        }
      ]
    },
    {
      "cell_type": "code",
      "source": [
        "sum(array)"
      ],
      "metadata": {
        "colab": {
          "base_uri": "https://localhost:8080/"
        },
        "id": "jtZDuVkflYVl",
        "outputId": "fa7c2b02-7ded-4d4c-9703-37cf7b86e5fb"
      },
      "execution_count": null,
      "outputs": [
        {
          "output_type": "execute_result",
          "data": {
            "text/plain": [
              "array([27, 25, 22, 22])"
            ]
          },
          "metadata": {},
          "execution_count": 38
        }
      ]
    },
    {
      "cell_type": "code",
      "source": [
        "np.sum(array, axis = 0)         # 행의 인덱스가 증가하는 방향으로 원소들의 합계"
      ],
      "metadata": {
        "colab": {
          "base_uri": "https://localhost:8080/"
        },
        "id": "eItGV0Fzmhj3",
        "outputId": "5d483f58-27c7-4b14-83d8-8af701d0269a"
      },
      "execution_count": null,
      "outputs": [
        {
          "output_type": "execute_result",
          "data": {
            "text/plain": [
              "array([27, 25, 22, 22])"
            ]
          },
          "metadata": {},
          "execution_count": 39
        }
      ]
    },
    {
      "cell_type": "code",
      "source": [
        "np.sum(array, axis = 1)         # 컬럼의 인덱스가 증하는 방향으로 원소들의 합계"
      ],
      "metadata": {
        "colab": {
          "base_uri": "https://localhost:8080/"
        },
        "id": "Jj7huXggnNna",
        "outputId": "a0a6b3dd-fdfb-454f-e3fd-4ba65d0789f5"
      },
      "execution_count": null,
      "outputs": [
        {
          "output_type": "execute_result",
          "data": {
            "text/plain": [
              "array([20, 23, 21, 18, 14])"
            ]
          },
          "metadata": {},
          "execution_count": 40
        }
      ]
    },
    {
      "cell_type": "code",
      "source": [
        "np.sum(array, axis = 0)[1]"
      ],
      "metadata": {
        "colab": {
          "base_uri": "https://localhost:8080/"
        },
        "id": "LrTP-5IJotzv",
        "outputId": "02418a21-ac8f-43c4-975d-884ec00e6e7e"
      },
      "execution_count": null,
      "outputs": [
        {
          "output_type": "execute_result",
          "data": {
            "text/plain": [
              "np.int64(25)"
            ]
          },
          "metadata": {},
          "execution_count": 41
        }
      ]
    }
  ]
}